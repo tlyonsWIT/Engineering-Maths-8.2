{
 "cells": [
  {
   "cell_type": "markdown",
   "metadata": {},
   "source": [
    "# Engineering Maths 8.2 - Plotting Graphs\n",
    "\n",
    "### Important:\n",
    "\n",
    "* It is important to run the Python cell below. To do this you can do one of the following:\n",
    "    \n",
    "    1. Press on the cell with th emouse, the press __Shift__ and __Enter__ together\n",
    "    \n",
    "    2. Hover the mouse over __[ ]__ and press the run (triangle) icon wich appears."
   ]
  },
  {
   "cell_type": "code",
   "execution_count": 5,
   "metadata": {},
   "outputs": [],
   "source": [
    "import matplotlib.pyplot as plt\n",
    "import numpy as np\n",
    "from numpy import cos,sin,tan,sqrt,exp,pi,arcsin,arctan,arccos,tanh,cosh,sinh,arccosh,arcsinh,arctanh"
   ]
  },
  {
   "cell_type": "markdown",
   "metadata": {},
   "source": [
    "## Outline of workbook\n",
    "\n",
    "* This workbook is for plotting functions $f(x)$ over intervals $a\\leq x\\leq b$."
   ]
  },
  {
   "cell_type": "markdown",
   "metadata": {},
   "source": [
    "### Defining the function\n",
    "\n",
    "* We define out functions in the cell below.\n",
    "\n",
    "\n",
    "* __Recall:__ We __must__ use _*_ when we want to indicate multiplication, e.g. $4x$ is written in Python as __4*x__ \n",
    "\n",
    "\n",
    "* We use __**__ to indicate powers, e.g. $x^{3}$ is written in Python as __x**3__\n",
    "\n",
    "\n",
    "* We use __exp__ to denote the function $e$, e.g. $e^{x}$ is is written in Python as __exp(x)__ \n",
    "\n",
    "\n",
    "## Example:\n",
    "\n",
    "Define the function\n",
    "\n",
    "$$f(x) = (x+2)e^{-x}$$\n",
    "\n",
    "in Python. Evaluate the value of this function at $x=1.54$ and $x=-1.33$."
   ]
  },
  {
   "cell_type": "code",
   "execution_count": 12,
   "metadata": {},
   "outputs": [],
   "source": [
    "def f(x):                     ## The colon is important\n",
    "    return (x+2)*exp(-x)      ## The indentation before return is important"
   ]
  },
  {
   "cell_type": "code",
   "execution_count": 13,
   "metadata": {},
   "outputs": [
    {
     "data": {
      "text/plain": [
       "0.758909099051502"
      ]
     },
     "execution_count": 13,
     "metadata": {},
     "output_type": "execute_result"
    }
   ],
   "source": [
    "f(1.54)"
   ]
  },
  {
   "cell_type": "code",
   "execution_count": 14,
   "metadata": {},
   "outputs": [
    {
     "data": {
      "text/plain": [
       "2.533299069671083"
      ]
     },
     "execution_count": 14,
     "metadata": {},
     "output_type": "execute_result"
    }
   ],
   "source": [
    "f(-1.33)"
   ]
  },
  {
   "cell_type": "markdown",
   "metadata": {},
   "source": [
    "## Plotting functions\n",
    "\n",
    "* Now that we have defined the function $f(x)$ in Python, we now want to plot this function in the interval $-2\\leq x \\leq 3$\n",
    "\n",
    "\n",
    "* We define the end-points of the interval as __a__ and __b__ in the cell below. This way, if we want to use a different interval, we just change the values on the r.h.s. of __a__ and __b__ below."
   ]
  },
  {
   "cell_type": "code",
   "execution_count": 15,
   "metadata": {},
   "outputs": [],
   "source": [
    "a=-2\n",
    "b=3"
   ]
  },
  {
   "cell_type": "markdown",
   "metadata": {},
   "source": [
    "* Now we create the interval $x$ using the __numpy__ function __linspace()__"
   ]
  },
  {
   "cell_type": "code",
   "execution_count": 16,
   "metadata": {},
   "outputs": [],
   "source": [
    "x=np.linspace(a,b,401) # Create an interval called x, between a and b, with 401 points"
   ]
  },
  {
   "cell_type": "markdown",
   "metadata": {},
   "source": [
    "## Plotting the graph\n",
    "\n",
    "* Now that we have defined the function and the interval, we can plot the graph using the __pyplot__ function __plot()__ "
   ]
  },
  {
   "cell_type": "code",
   "execution_count": 17,
   "metadata": {},
   "outputs": [
    {
     "data": {
      "text/plain": [
       "[<matplotlib.lines.Line2D at 0x7fc180988da0>]"
      ]
     },
     "execution_count": 17,
     "metadata": {},
     "output_type": "execute_result"
    },
    {
     "data": {
      "image/png": "[encoded data removed]",
      "text/plain": [
       "<matplotlib.figure.Figure at 0x7fc180a3e630>"
      ]
     },
     "metadata": {
      "needs_background": "light"
     },
     "output_type": "display_data"
    }
   ],
   "source": [
    "plt.plot(x,f(x),color='red')"
   ]
  },
  {
   "cell_type": "markdown",
   "metadata": {},
   "source": [
    "* As we can see, there is one turing point of $f(x)$ in the interval $-2\\leq x\\leq 3$. In fact, this is the only turning point of the function."
   ]
  },
  {
   "cell_type": "code",
   "execution_count": null,
   "metadata": {},
   "outputs": [],
   "source": []
  },
  {
   "cell_type": "code",
   "execution_count": null,
   "metadata": {},
   "outputs": [],
   "source": []
  },
  {
   "cell_type": "code",
   "execution_count": null,
   "metadata": {},
   "outputs": [],
   "source": []
  },
  {
   "cell_type": "code",
   "execution_count": null,
   "metadata": {},
   "outputs": [],
   "source": []
  }
 ],
 "metadata": {
  "kernelspec": {
   "display_name": "Python 3",
   "language": "python",
   "name": "python3"
  },
  "language_info": {
   "codemirror_mode": {
    "name": "ipython",
    "version": 3
   },
   "file_extension": ".py",
   "mimetype": "text/x-python",
   "name": "python",
   "nbconvert_exporter": "python",
   "pygments_lexer": "ipython3",
   "version": "3.6.9"
  }
 },
 "nbformat": 4,
 "nbformat_minor": 4
}
