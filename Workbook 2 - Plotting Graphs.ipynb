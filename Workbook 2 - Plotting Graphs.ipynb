{
  "nbformat": 4,
  "nbformat_minor": 0,
  "metadata": {
    "kernelspec": {
      "display_name": "Python 3",
      "language": "python",
      "name": "python3"
    },
    "language_info": {
      "codemirror_mode": {
        "name": "ipython",
        "version": 3
      },
      "file_extension": ".py",
      "mimetype": "text/x-python",
      "name": "python",
      "nbconvert_exporter": "python",
      "pygments_lexer": "ipython3",
      "version": "3.6.9"
    },
    "colab": {
      "name": "Workbook 2 - Plotting Graphs.ipynb",
      "provenance": [],
      "toc_visible": true
    }
  },
  "cells": [
    {
      "cell_type": "markdown",
      "metadata": {
        "id": "DK7ZuSIR9VFq",
        "colab_type": "text"
      },
      "source": [
        "# Engineering Maths 8.2 - Plotting Graphs\n",
        "\n",
        "### Important:\n",
        "\n",
        "* It is important to run the Python cell below. To do this you can do one of the following:\n",
        "    \n",
        "    1. Press on the cell with th emouse, the press __Shift__ and __Enter__ together\n",
        "    \n",
        "    2. Hover the mouse over __[ ]__ and press the run (triangle) icon wich appears."
      ]
    },
    {
      "cell_type": "code",
      "metadata": {
        "id": "_it1Vf2u9VFx",
        "colab_type": "code",
        "colab": {}
      },
      "source": [
        "import matplotlib.pyplot as plt\n",
        "import numpy as np\n",
        "from numpy import cos,sin,tan,sqrt,exp,pi,arcsin,arctan,arccos,tanh,cosh,sinh,arccosh,arcsinh,arctanh"
      ],
      "execution_count": 0,
      "outputs": []
    },
    {
      "cell_type": "markdown",
      "metadata": {
        "id": "pJZe2eC59VGB",
        "colab_type": "text"
      },
      "source": [
        "## Outline of workbook\n",
        "\n",
        "* This workbook is for plotting functions $f(x)$ over intervals $a\\leq x\\leq b$."
      ]
    },
    {
      "cell_type": "markdown",
      "metadata": {
        "id": "xmo2PihO9VGE",
        "colab_type": "text"
      },
      "source": [
        "### Defining the function\n",
        "\n",
        "* We define out functions in the cell below.\n",
        "\n",
        "\n",
        "* __Recall:__ We __must__ use _*_ when we want to indicate multiplication, e.g. $4x$ is written in Python as __4*x__ \n",
        "\n",
        "\n",
        "* We use __**__ to indicate powers, e.g. $x^{3}$ is written in Python as __x**3__\n",
        "\n",
        "\n",
        "* We use __exp__ to denote the function $e$, e.g. $e^{x}$ is is written in Python as __exp(x)__ \n",
        "\n",
        "\n",
        "## Example:\n",
        "\n",
        "Define the function\n",
        "\n",
        "$$f(x) = (x+2)e^{-x}$$\n",
        "\n",
        "in Python. Evaluate the value of this function at $x=1.54$ and $x=-1.33$."
      ]
    },
    {
      "cell_type": "code",
      "metadata": {
        "id": "ZUZGPIjc9VGH",
        "colab_type": "code",
        "colab": {}
      },
      "source": [
        "def f(x):                     ## The colon is important\n",
        "    return (x+2)*exp(-x)      ## The indentation before return is important"
      ],
      "execution_count": 0,
      "outputs": []
    },
    {
      "cell_type": "code",
      "metadata": {
        "id": "SiH-m6ir9VGR",
        "colab_type": "code",
        "colab": {},
        "outputId": "a33e1c14-e5ab-4f16-d478-73e55e26f966"
      },
      "source": [
        "f(1.54)"
      ],
      "execution_count": 0,
      "outputs": [
        {
          "output_type": "execute_result",
          "data": {
            "text/plain": [
              "0.758909099051502"
            ]
          },
          "metadata": {
            "tags": []
          },
          "execution_count": 13
        }
      ]
    },
    {
      "cell_type": "code",
      "metadata": {
        "id": "mTrKyw_j9VGb",
        "colab_type": "code",
        "colab": {},
        "outputId": "fabe9d7d-2c19-4f4d-b6b7-7c19aad4b4be"
      },
      "source": [
        "f(-1.33)"
      ],
      "execution_count": 0,
      "outputs": [
        {
          "output_type": "execute_result",
          "data": {
            "text/plain": [
              "2.533299069671083"
            ]
          },
          "metadata": {
            "tags": []
          },
          "execution_count": 14
        }
      ]
    },
    {
      "cell_type": "markdown",
      "metadata": {
        "id": "GAc8L0j99VGk",
        "colab_type": "text"
      },
      "source": [
        "## Plotting functions\n",
        "\n",
        "* Now that we have defined the function $f(x)$ in Python, we now want to plot this function in the interval $-2\\leq x \\leq 3$\n",
        "\n",
        "\n",
        "* We define the end-points of the interval as __a__ and __b__ in the cell below. This way, if we want to use a different interval, we just change the values on the r.h.s. of __a__ and __b__ below."
      ]
    },
    {
      "cell_type": "code",
      "metadata": {
        "id": "ZknDC3mD9VGn",
        "colab_type": "code",
        "colab": {}
      },
      "source": [
        "a=-2\n",
        "b=3"
      ],
      "execution_count": 0,
      "outputs": []
    },
    {
      "cell_type": "markdown",
      "metadata": {
        "id": "6mTnG3NI9VGu",
        "colab_type": "text"
      },
      "source": [
        "* Now we create the interval $x$ using the __numpy__ function __linspace()__"
      ]
    },
    {
      "cell_type": "code",
      "metadata": {
        "id": "ENkSsEdh9VG1",
        "colab_type": "code",
        "colab": {}
      },
      "source": [
        "x=np.linspace(a,b,401) # Create an interval called x, between a and b, with 401 points"
      ],
      "execution_count": 0,
      "outputs": []
    },
    {
      "cell_type": "markdown",
      "metadata": {
        "id": "bRSn7jIf9VG8",
        "colab_type": "text"
      },
      "source": [
        "## Plotting the graph\n",
        "\n",
        "* Now that we have defined the function and the interval, we can plot the graph using the __pyplot__ function __plot()__ "
      ]
    },
    {
      "cell_type": "code",
      "metadata": {
        "id": "xWPqi6Aj9VG_",
        "colab_type": "code",
        "colab": {},
        "outputId": "7b0ca446-8691-41c0-f517-8ec196a78a9f"
      },
      "source": [
        "plt.plot(x,f(x),color='red')"
      ],
      "execution_count": 0,
      "outputs": [
        {
          "output_type": "execute_result",
          "data": {
            "text/plain": [
              "[<matplotlib.lines.Line2D at 0x7fc180988da0>]"
            ]
          },
          "metadata": {
            "tags": []
          },
          "execution_count": 17
        },
        {
          "output_type": "display_data",
          "data": {
            "image/png": "[encoded data removed]",
            "text/plain": [
              "<matplotlib.figure.Figure at 0x7fc180a3e630>"
            ]
          },
          "metadata": {
            "tags": [],
            "needs_background": "light"
          }
        }
      ]
    },
    {
      "cell_type": "markdown",
      "metadata": {
        "id": "2PVeK_rM9VHG",
        "colab_type": "text"
      },
      "source": [
        "* As we can see, there is one turing point of $f(x)$ in the interval $-2\\leq x\\leq 3$. In fact, this is the only turning point of the function.\n"
      ]
    },
    {
      "cell_type": "markdown",
      "metadata": {
        "id": "NxOjfHsW-Djq",
        "colab_type": "text"
      },
      "source": [
        "## Plotting a graph with shaded areas\n",
        "\n",
        "* We now want to plot the garph of \n",
        "\n",
        "$$\n",
        "f(x)=x^3-16x\n",
        "$$\n",
        "\n",
        "and in particular to show the area contained between this function and the $x$-axis.\n",
        "\n",
        "\n",
        "* The graph intersects the $x$-axis when $f(x)=0$, or\n",
        "$$\n",
        "x^3-16x^2=0\\Rightarrow x(x^2-16)=0\\Rightarrow x(x-4)(x+4)=0,\n",
        "$$\n",
        "and so we find the graph intersectes the $x$-axis at $x=-4$, $x=0$ and $x=+4$.\n",
        "\n",
        "* We now set-up and $x$-axis for the plot, which should go from -4 to +4 at the very least. We will set up our axis to go from -5 to +5, and so it contains all the points of intersection between $f(x)$ and the $x$-axis."
      ]
    },
    {
      "cell_type": "code",
      "metadata": {
        "id": "bQnyEY2u_R2w",
        "colab_type": "code",
        "colab": {}
      },
      "source": [
        "x=np.linspace(-5,5,201) # The x-asis contains 201 points, to make sure our plot is suffieciently smooth."
      ],
      "execution_count": 0,
      "outputs": []
    },
    {
      "cell_type": "markdown",
      "metadata": {
        "id": "q86ITO60-Dn-",
        "colab_type": "text"
      },
      "source": [
        "* Now we define our function as follows:"
      ]
    },
    {
      "cell_type": "code",
      "metadata": {
        "id": "kliLAjIzAIRm",
        "colab_type": "code",
        "colab": {}
      },
      "source": [
        "def f(x):\n",
        "  return x**3-16*x"
      ],
      "execution_count": 0,
      "outputs": []
    },
    {
      "cell_type": "markdown",
      "metadata": {
        "id": "rDF7U5K_-DrI",
        "colab_type": "text"
      },
      "source": [
        "* Now we can plot the graph is the usual way:"
      ]
    },
    {
      "cell_type": "code",
      "metadata": {
        "id": "AEfFA7Wk9VHJ",
        "colab_type": "code",
        "colab": {
          "base_uri": "https://localhost:8080/",
          "height": 283
        },
        "outputId": "610929d1-9989-4712-c1ee-d707e64aab89"
      },
      "source": [
        "plt.plot(x,f(x),color='red')"
      ],
      "execution_count": 7,
      "outputs": [
        {
          "output_type": "execute_result",
          "data": {
            "text/plain": [
              "[<matplotlib.lines.Line2D at 0x7fdeedb45eb8>]"
            ]
          },
          "metadata": {
            "tags": []
          },
          "execution_count": 7
        },
        {
          "output_type": "display_data",
          "data": {
            "image/png": "[encoded data removed]",
            "text/plain": [
              "<Figure size 432x288 with 1 Axes>"
            ]
          },
          "metadata": {
            "tags": []
          }
        }
      ]
    },
    {
      "cell_type": "markdown",
      "metadata": {
        "id": "iQHTgV1BAq7G",
        "colab_type": "text"
      },
      "source": [
        "* Notice that the axis alaways appears at the bottom of the plot, and the ususal $x$-axis (i.e. the line $y=0$) does not appear.\n",
        "\n",
        "* We ca easily add this line using the command __plt.axhline(y=0)__"
      ]
    },
    {
      "cell_type": "code",
      "metadata": {
        "id": "BfvafL64AqV1",
        "colab_type": "code",
        "colab": {
          "base_uri": "https://localhost:8080/",
          "height": 283
        },
        "outputId": "c38fb27c-aa39-4eb3-ced9-c2cb8c80b124"
      },
      "source": [
        "plt.plot(x,f(x),color='red')\n",
        "plt.axhline(y=0,color='darkslategray')"
      ],
      "execution_count": 8,
      "outputs": [
        {
          "output_type": "execute_result",
          "data": {
            "text/plain": [
              "<matplotlib.lines.Line2D at 0x7fdeee1c96d8>"
            ]
          },
          "metadata": {
            "tags": []
          },
          "execution_count": 8
        },
        {
          "output_type": "display_data",
          "data": {
            "image/png": "[encoded data removed]",
            "text/plain": [
              "<Figure size 432x288 with 1 Axes>"
            ]
          },
          "metadata": {
            "tags": []
          }
        }
      ]
    },
    {
      "cell_type": "markdown",
      "metadata": {
        "id": "p24KzVmiBTEN",
        "colab_type": "text"
      },
      "source": [
        "* We can also fill in between these two curves using the function __plt.fillbetween(x,y1=0, y2=f(x))__"
      ]
    },
    {
      "cell_type": "code",
      "metadata": {
        "id": "hwp5UDKA9VHQ",
        "colab_type": "code",
        "colab": {
          "base_uri": "https://localhost:8080/",
          "height": 283
        },
        "outputId": "4768b60a-dde8-4837-82e4-43317093ee05"
      },
      "source": [
        "plt.plot(x,f(x),color='red')\n",
        "plt.axhline(y=0,color='darkslategray')\n",
        "plt.fill_between(x,y1=f(x),y2=0,alpha=0.4) # The parameter alpha which should always be between 0 and 1 sets the tranparency of the fill"
      ],
      "execution_count": 10,
      "outputs": [
        {
          "output_type": "execute_result",
          "data": {
            "text/plain": [
              "<matplotlib.collections.PolyCollection at 0x7fdeeb1efda0>"
            ]
          },
          "metadata": {
            "tags": []
          },
          "execution_count": 10
        },
        {
          "output_type": "display_data",
          "data": {
            "image/png": "[encoded data removed]",
            "text/plain": [
              "<Figure size 432x288 with 1 Axes>"
            ]
          },
          "metadata": {
            "tags": []
          }
        }
      ]
    },
    {
      "cell_type": "markdown",
      "metadata": {
        "id": "DKF_guWHCDcc",
        "colab_type": "text"
      },
      "source": [
        "* Notice that this function fills everywhere, and we only want it to fill between $x=-4$ and $x=+4$. \n",
        "\n",
        "* This can be done as follows"
      ]
    },
    {
      "cell_type": "code",
      "metadata": {
        "id": "z0sZPOr_9VHY",
        "colab_type": "code",
        "colab": {
          "base_uri": "https://localhost:8080/",
          "height": 265
        },
        "outputId": "49b89487-8d61-4087-b2d4-578d18cc44b3"
      },
      "source": [
        "plt.plot(x,f(x),color='red')\n",
        "plt.axhline(y=0,color='darkslategray')\n",
        "plt.fill_between(x,y1=f(x),y2=0,where=abs(x)<4,interpolate=True,alpha=0.4)"
      ],
      "execution_count": 18,
      "outputs": [
        {
          "output_type": "display_data",
          "data": {
            "image/png": "[encoded data removed]",
            "text/plain": [
              "<Figure size 432x288 with 1 Axes>"
            ]
          },
          "metadata": {
            "tags": []
          }
        }
      ]
    },
    {
      "cell_type": "code",
      "metadata": {
        "id": "vAsoD6Dl9VHe",
        "colab_type": "code",
        "colab": {}
      },
      "source": [
        ""
      ],
      "execution_count": 0,
      "outputs": []
    },
    {
      "cell_type": "code",
      "metadata": {
        "id": "B9_T2zlTEChy",
        "colab_type": "code",
        "colab": {}
      },
      "source": [
        ""
      ],
      "execution_count": 0,
      "outputs": []
    },
    {
      "cell_type": "code",
      "metadata": {
        "id": "N6ndbyGGECks",
        "colab_type": "code",
        "colab": {}
      },
      "source": [
        ""
      ],
      "execution_count": 0,
      "outputs": []
    },
    {
      "cell_type": "code",
      "metadata": {
        "id": "FVWpNwulECpk",
        "colab_type": "code",
        "colab": {}
      },
      "source": [
        ""
      ],
      "execution_count": 0,
      "outputs": []
    }
  ]
}