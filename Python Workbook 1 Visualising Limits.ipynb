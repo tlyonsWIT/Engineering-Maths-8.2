{
  "nbformat": 4,
  "nbformat_minor": 0,
  "metadata": {
    "kernelspec": {
      "display_name": "Python 3",
      "language": "python",
      "name": "python3"
    },
    "language_info": {
      "codemirror_mode": {
        "name": "ipython",
        "version": 3
      },
      "file_extension": ".py",
      "mimetype": "text/x-python",
      "name": "python",
      "nbconvert_exporter": "python",
      "pygments_lexer": "ipython3",
      "version": "3.7.3"
    },
    "colab": {
      "name": "Python Workbook 1 - Visualising Limits.ipynb",
      "provenance": [],
      "include_colab_link": true
    },
    "widgets": {
      "application/vnd.jupyter.widget-state+json": {
        "403ff32056ee478bae90b7e3e2fbfb20": {
          "model_module": "@jupyter-widgets/controls",
          "model_name": "VBoxModel",
          "state": {
            "_view_name": "VBoxView",
            "_dom_classes": [
              "widget-interact"
            ],
            "_model_name": "VBoxModel",
            "_view_module": "@jupyter-widgets/controls",
            "_model_module_version": "1.5.0",
            "_view_count": null,
            "_view_module_version": "1.5.0",
            "box_style": "",
            "layout": "IPY_MODEL_53da6511f5054fd0a33964f7de69b9d4",
            "_model_module": "@jupyter-widgets/controls",
            "children": [
              "IPY_MODEL_1744f245cca74519a1a1cec95d6be199",
              "IPY_MODEL_e407627c4213432298a5e5be5dd0cf37"
            ]
          }
        },
        "53da6511f5054fd0a33964f7de69b9d4": {
          "model_module": "@jupyter-widgets/base",
          "model_name": "LayoutModel",
          "state": {
            "_view_name": "LayoutView",
            "grid_template_rows": null,
            "right": null,
            "justify_content": null,
            "_view_module": "@jupyter-widgets/base",
            "overflow": null,
            "_model_module_version": "1.2.0",
            "_view_count": null,
            "flex_flow": null,
            "width": null,
            "min_width": null,
            "border": null,
            "align_items": null,
            "bottom": null,
            "_model_module": "@jupyter-widgets/base",
            "top": null,
            "grid_column": null,
            "overflow_y": null,
            "overflow_x": null,
            "grid_auto_flow": null,
            "grid_area": null,
            "grid_template_columns": null,
            "flex": null,
            "_model_name": "LayoutModel",
            "justify_items": null,
            "grid_row": null,
            "max_height": null,
            "align_content": null,
            "visibility": null,
            "align_self": null,
            "height": null,
            "min_height": null,
            "padding": null,
            "grid_auto_rows": null,
            "grid_gap": null,
            "max_width": null,
            "order": null,
            "_view_module_version": "1.2.0",
            "grid_template_areas": null,
            "object_position": null,
            "object_fit": null,
            "grid_auto_columns": null,
            "margin": null,
            "display": null,
            "left": null
          }
        },
        "1744f245cca74519a1a1cec95d6be199": {
          "model_module": "@jupyter-widgets/controls",
          "model_name": "FloatSliderModel",
          "state": {
            "_view_name": "FloatSliderView",
            "style": "IPY_MODEL_460702a8e9cb4a568ca9b2db4bc326b7",
            "_dom_classes": [],
            "description": "h",
            "step": 0.1,
            "_model_name": "FloatSliderModel",
            "orientation": "horizontal",
            "max": 1.5,
            "_view_module": "@jupyter-widgets/controls",
            "_model_module_version": "1.5.0",
            "value": 0.5,
            "_view_count": null,
            "disabled": false,
            "_view_module_version": "1.5.0",
            "min": -0.5,
            "continuous_update": true,
            "readout_format": ".2f",
            "description_tooltip": null,
            "readout": true,
            "_model_module": "@jupyter-widgets/controls",
            "layout": "IPY_MODEL_d96f73d0853841568cdfa3f3ea11ffee"
          }
        },
        "e407627c4213432298a5e5be5dd0cf37": {
          "model_module": "@jupyter-widgets/output",
          "model_name": "OutputModel",
          "state": {
            "_view_name": "OutputView",
            "msg_id": "",
            "_dom_classes": [],
            "_model_name": "OutputModel",
            "outputs": [
              {
                "output_type": "display_data",
                "metadata": {
                  "tags": [],
                  "needs_background": "light"
                },
                "image/png": "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\n",
                "text/plain": "<Figure size 432x288 with 1 Axes>"
              }
            ],
            "_view_module": "@jupyter-widgets/output",
            "_model_module_version": "1.0.0",
            "_view_count": null,
            "_view_module_version": "1.0.0",
            "layout": "IPY_MODEL_06474e88bcf843ad8c45a03fe4467413",
            "_model_module": "@jupyter-widgets/output"
          }
        },
        "460702a8e9cb4a568ca9b2db4bc326b7": {
          "model_module": "@jupyter-widgets/controls",
          "model_name": "SliderStyleModel",
          "state": {
            "_view_name": "StyleView",
            "handle_color": null,
            "_model_name": "SliderStyleModel",
            "description_width": "",
            "_view_module": "@jupyter-widgets/base",
            "_model_module_version": "1.5.0",
            "_view_count": null,
            "_view_module_version": "1.2.0",
            "_model_module": "@jupyter-widgets/controls"
          }
        },
        "d96f73d0853841568cdfa3f3ea11ffee": {
          "model_module": "@jupyter-widgets/base",
          "model_name": "LayoutModel",
          "state": {
            "_view_name": "LayoutView",
            "grid_template_rows": null,
            "right": null,
            "justify_content": null,
            "_view_module": "@jupyter-widgets/base",
            "overflow": null,
            "_model_module_version": "1.2.0",
            "_view_count": null,
            "flex_flow": null,
            "width": null,
            "min_width": null,
            "border": null,
            "align_items": null,
            "bottom": null,
            "_model_module": "@jupyter-widgets/base",
            "top": null,
            "grid_column": null,
            "overflow_y": null,
            "overflow_x": null,
            "grid_auto_flow": null,
            "grid_area": null,
            "grid_template_columns": null,
            "flex": null,
            "_model_name": "LayoutModel",
            "justify_items": null,
            "grid_row": null,
            "max_height": null,
            "align_content": null,
            "visibility": null,
            "align_self": null,
            "height": null,
            "min_height": null,
            "padding": null,
            "grid_auto_rows": null,
            "grid_gap": null,
            "max_width": null,
            "order": null,
            "_view_module_version": "1.2.0",
            "grid_template_areas": null,
            "object_position": null,
            "object_fit": null,
            "grid_auto_columns": null,
            "margin": null,
            "display": null,
            "left": null
          }
        },
        "06474e88bcf843ad8c45a03fe4467413": {
          "model_module": "@jupyter-widgets/base",
          "model_name": "LayoutModel",
          "state": {
            "_view_name": "LayoutView",
            "grid_template_rows": null,
            "right": null,
            "justify_content": null,
            "_view_module": "@jupyter-widgets/base",
            "overflow": null,
            "_model_module_version": "1.2.0",
            "_view_count": null,
            "flex_flow": null,
            "width": null,
            "min_width": null,
            "border": null,
            "align_items": null,
            "bottom": null,
            "_model_module": "@jupyter-widgets/base",
            "top": null,
            "grid_column": null,
            "overflow_y": null,
            "overflow_x": null,
            "grid_auto_flow": null,
            "grid_area": null,
            "grid_template_columns": null,
            "flex": null,
            "_model_name": "LayoutModel",
            "justify_items": null,
            "grid_row": null,
            "max_height": null,
            "align_content": null,
            "visibility": null,
            "align_self": null,
            "height": null,
            "min_height": null,
            "padding": null,
            "grid_auto_rows": null,
            "grid_gap": null,
            "max_width": null,
            "order": null,
            "_view_module_version": "1.2.0",
            "grid_template_areas": null,
            "object_position": null,
            "object_fit": null,
            "grid_auto_columns": null,
            "margin": null,
            "display": null,
            "left": null
          }
        }
      }
    }
  },
  "cells": [
    {
      "cell_type": "markdown",
      "metadata": {
        "id": "view-in-github",
        "colab_type": "text"
      },
      "source": [
        "<a href=\"https://colab.research.google.com/github/tlyonsWIT/Engineering-Maths-8.2/blob/master/Python%20Workbook%201%20Visualising%20Limits.ipynb\" target=\"_parent\"><img src=\"https://colab.research.google.com/assets/colab-badge.svg\" alt=\"Open In Colab\"/></a>"
      ]
    },
    {
      "cell_type": "markdown",
      "metadata": {
        "id": "WnrBzWybAK7B"
      },
      "source": [
        "# Engineering Maths 8.2 - Inroduction to Limits\n",
        "\n",
        "\n",
        "## Visualising analytic limits"
      ]
    },
    {
      "cell_type": "markdown",
      "metadata": {
        "id": "_aUSMJa-AK7J"
      },
      "source": [
        "The `interact` function (`ipywidgets.interact`) automatically creates user interface (UI) controls for exploring code and data interactively. It is the easiest way to get started using IPython's widgets."
      ]
    },
    {
      "cell_type": "code",
      "metadata": {
        "id": "9t7ql_2aAK7K"
      },
      "source": [
        "from __future__ import print_function\n",
        "from ipywidgets import interact, interactive, fixed, interact_manual\n",
        "import ipywidgets as widgets\n",
        "import numpy as np\n",
        "import matplotlib.pyplot as plt"
      ],
      "execution_count": null,
      "outputs": []
    },
    {
      "cell_type": "markdown",
      "metadata": {
        "id": "NL7uk0nTAK7M"
      },
      "source": [
        "## Basic `interact`"
      ]
    },
    {
      "cell_type": "markdown",
      "metadata": {
        "id": "_fZzdBnAAK7N"
      },
      "source": [
        "* In this case we are going to visulse the left and right limits of the function\n",
        "\n",
        "$$ 1+x^2$$\n",
        "\n",
        "about the point $x=2$.\n",
        "\n",
        "\n",
        "\n",
        "* The first thing to do is define a pyrhon function to represent this:"
      ]
    },
    {
      "cell_type": "code",
      "metadata": {
        "id": "ietnTtThAK7N"
      },
      "source": [
        "def f(x):\n",
        "    return 1+x**2"
      ],
      "execution_count": null,
      "outputs": []
    },
    {
      "cell_type": "markdown",
      "metadata": {
        "id": "uXZO-Lv3E6me"
      },
      "source": [
        "* Next we plot the function between $x=0$ and $x=3$, to see what it looks like."
      ]
    },
    {
      "cell_type": "code",
      "metadata": {
        "colab": {
          "base_uri": "https://localhost:8080/",
          "height": 286
        },
        "id": "VfGulkKRAmjZ",
        "outputId": "416c71ec-ae2b-4c9d-8d2d-eb7bd9019329"
      },
      "source": [
        "X=np.linspace(0,3,501)\n",
        "plt.plot(X,f(X))\n",
        "plt.plot([2,2],[0,f(2)],ls='--',color='darkslategray')\n",
        "plt.plot([0,2],[f(2),f(2)],ls='--',color='darkslategray')\n",
        "plt.xlim(0,3)\n",
        "plt.ylim(0,10)"
      ],
      "execution_count": null,
      "outputs": [
        {
          "output_type": "execute_result",
          "data": {
            "text/plain": [
              "(0.0, 10.0)"
            ]
          },
          "metadata": {
            "tags": []
          },
          "execution_count": 13
        },
        {
          "output_type": "display_data",
          "data": {
            "image/png": "[encoded data removed]",
            "text/plain": [
              "<Figure size 432x288 with 1 Axes>"
            ]
          },
          "metadata": {
            "tags": [],
            "needs_background": "light"
          }
        }
      ]
    },
    {
      "cell_type": "markdown",
      "metadata": {
        "id": "QETGlf7UAK7O"
      },
      "source": [
        "## The moving point\n",
        "\n",
        "\n",
        "* No we re-create the same plot, but we include a __moving point__ whos position we can adjust with a slider. "
      ]
    },
    {
      "cell_type": "code",
      "metadata": {
        "colab": {
          "base_uri": "https://localhost:8080/",
          "height": 301,
          "referenced_widgets": [
            "403ff32056ee478bae90b7e3e2fbfb20",
            "53da6511f5054fd0a33964f7de69b9d4",
            "1744f245cca74519a1a1cec95d6be199",
            "e407627c4213432298a5e5be5dd0cf37",
            "460702a8e9cb4a568ca9b2db4bc326b7",
            "d96f73d0853841568cdfa3f3ea11ffee",
            "06474e88bcf843ad8c45a03fe4467413"
          ]
        },
        "id": "qGn8P0w8Bbw9",
        "outputId": "74e6535e-04ba-4f49-b240-4447fcdcff29"
      },
      "source": [
        "@interact(h=0.5) # Tell python the generate an interctive slider for the variable h, and set its initial value to 0.5\n",
        "\n",
        "def MovinPointPlot(h):\n",
        "  X=np.linspace(0,3,501)\n",
        "  plt.plot(X,f(X))\n",
        "  plt.plot([2+h],f(2+h),'o',color='red',markersize=8) # This is the same plot as the cell above, except for this line, which creates a red dot whose position is defined by the value of h\n",
        "  plt.plot([2,2],[0,f(2)],ls='--',color='darkslategray')\n",
        "  plt.plot([0,2],[f(2),f(2)],ls='--',color='darkslategray')\n",
        "  plt.xlim(0,3)\n",
        "  plt.ylim(0,10)\n"
      ],
      "execution_count": null,
      "outputs": [
        {
          "output_type": "display_data",
          "data": {
            "application/vnd.jupyter.widget-view+json": {
              "model_id": "403ff32056ee478bae90b7e3e2fbfb20",
              "version_minor": 0,
              "version_major": 2
            },
            "text/plain": [
              "interactive(children=(FloatSlider(value=0.5, description='h', max=1.5, min=-0.5), Output()), _dom_classes=('wi…"
            ]
          },
          "metadata": {
            "tags": []
          }
        }
      ]
    }
  ]
}