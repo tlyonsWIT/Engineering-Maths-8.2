{
  "nbformat": 4,
  "nbformat_minor": 0,
  "metadata": {
    "kernelspec": {
      "display_name": "Python 2",
      "language": "python",
      "name": "python2"
    },
    "language_info": {
      "codemirror_mode": {
        "name": "ipython",
        "version": 2
      },
      "file_extension": ".py",
      "mimetype": "text/x-python",
      "name": "python",
      "nbconvert_exporter": "python",
      "pygments_lexer": "ipython2",
      "version": "2.7.15rc1"
    },
    "colab": {
      "name": "Python Workbook 2 - Differentiation.ipynb",
      "provenance": [],
      "include_colab_link": true
    },
    "widgets": {
      "application/vnd.jupyter.widget-state+json": {
        "c8b0961b1d154b009defed1672b03ee2": {
          "model_module": "@jupyter-widgets/controls",
          "model_name": "VBoxModel",
          "state": {
            "_view_name": "VBoxView",
            "_dom_classes": [
              "widget-interact"
            ],
            "_model_name": "VBoxModel",
            "_view_module": "@jupyter-widgets/controls",
            "_model_module_version": "1.5.0",
            "_view_count": null,
            "_view_module_version": "1.5.0",
            "box_style": "",
            "layout": "IPY_MODEL_6caeeef08dff4918b494d4a9c4028705",
            "_model_module": "@jupyter-widgets/controls",
            "children": [
              "IPY_MODEL_5540b31befa249c7b2f4b93cd4249f85",
              "IPY_MODEL_158075f94aa84e8fa681a98181a74989"
            ]
          }
        },
        "6caeeef08dff4918b494d4a9c4028705": {
          "model_module": "@jupyter-widgets/base",
          "model_name": "LayoutModel",
          "state": {
            "_view_name": "LayoutView",
            "grid_template_rows": null,
            "right": null,
            "justify_content": null,
            "_view_module": "@jupyter-widgets/base",
            "_model_module_version": "1.2.0",
            "_view_count": null,
            "flex_flow": null,
            "min_width": null,
            "border": null,
            "align_items": null,
            "bottom": null,
            "_model_module": "@jupyter-widgets/base",
            "top": null,
            "grid_column": null,
            "width": null,
            "overflow_x": null,
            "grid_auto_flow": null,
            "grid_area": null,
            "grid_template_columns": null,
            "flex": null,
            "_model_name": "LayoutModel",
            "justify_items": null,
            "grid_row": null,
            "max_height": null,
            "align_content": null,
            "visibility": null,
            "overflow": null,
            "height": null,
            "min_height": null,
            "padding": null,
            "grid_auto_rows": null,
            "grid_gap": null,
            "overflow_y": null,
            "max_width": null,
            "order": null,
            "_view_module_version": "1.2.0",
            "align_self": null,
            "grid_template_areas": null,
            "object_position": null,
            "object_fit": null,
            "grid_auto_columns": null,
            "margin": null,
            "display": null,
            "left": null
          }
        },
        "5540b31befa249c7b2f4b93cd4249f85": {
          "model_module": "@jupyter-widgets/controls",
          "model_name": "FloatSliderModel",
          "state": {
            "_view_name": "FloatSliderView",
            "style": "IPY_MODEL_0f6b90dd46a040a1b9115625dfc270e5",
            "_view_module": "@jupyter-widgets/controls",
            "_dom_classes": [],
            "orientation": "horizontal",
            "min": -0.5,
            "max": 0.5,
            "_model_name": "FloatSliderModel",
            "_model_module_version": "1.5.0",
            "value": 0.5,
            "_view_count": null,
            "disabled": false,
            "step": 0.0025,
            "continuous_update": true,
            "description_tooltip": null,
            "readout_format": ".2f",
            "_view_module_version": "1.5.0",
            "readout": true,
            "_model_module": "@jupyter-widgets/controls",
            "layout": "IPY_MODEL_f79afaf7e1c14b1bb769bba4ada92ea0",
            "description": "h"
          }
        },
        "158075f94aa84e8fa681a98181a74989": {
          "model_module": "@jupyter-widgets/output",
          "model_name": "OutputModel",
          "state": {
            "_view_name": "OutputView",
            "_view_module": "@jupyter-widgets/output",
            "_dom_classes": [],
            "_model_name": "OutputModel",
            "outputs": [
              {
                "output_type": "display_data",
                "metadata": {
                  "tags": [],
                  "needs_background": "light"
                },
                "image/png": "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\n",
                "text/plain": "<Figure size 432x288 with 1 Axes>"
              }
            ],
            "msg_id": "",
            "_model_module_version": "1.0.0",
            "_view_count": null,
            "_view_module_version": "1.0.0",
            "layout": "IPY_MODEL_494c83e49de64a4199c15f0e68fceb1e",
            "_model_module": "@jupyter-widgets/output"
          }
        },
        "0f6b90dd46a040a1b9115625dfc270e5": {
          "model_module": "@jupyter-widgets/controls",
          "model_name": "SliderStyleModel",
          "state": {
            "_view_name": "StyleView",
            "handle_color": null,
            "_model_name": "SliderStyleModel",
            "description_width": "",
            "_view_module": "@jupyter-widgets/base",
            "_model_module_version": "1.5.0",
            "_view_count": null,
            "_view_module_version": "1.2.0",
            "_model_module": "@jupyter-widgets/controls"
          }
        },
        "f79afaf7e1c14b1bb769bba4ada92ea0": {
          "model_module": "@jupyter-widgets/base",
          "model_name": "LayoutModel",
          "state": {
            "_view_name": "LayoutView",
            "grid_template_rows": null,
            "right": null,
            "justify_content": null,
            "_view_module": "@jupyter-widgets/base",
            "_model_module_version": "1.2.0",
            "_view_count": null,
            "flex_flow": null,
            "min_width": null,
            "border": null,
            "align_items": null,
            "bottom": null,
            "_model_module": "@jupyter-widgets/base",
            "top": null,
            "grid_column": null,
            "width": null,
            "overflow_x": null,
            "grid_auto_flow": null,
            "grid_area": null,
            "grid_template_columns": null,
            "flex": null,
            "_model_name": "LayoutModel",
            "justify_items": null,
            "grid_row": null,
            "max_height": null,
            "align_content": null,
            "visibility": null,
            "overflow": null,
            "height": null,
            "min_height": null,
            "padding": null,
            "grid_auto_rows": null,
            "grid_gap": null,
            "overflow_y": null,
            "max_width": null,
            "order": null,
            "_view_module_version": "1.2.0",
            "align_self": null,
            "grid_template_areas": null,
            "object_position": null,
            "object_fit": null,
            "grid_auto_columns": null,
            "margin": null,
            "display": null,
            "left": null
          }
        },
        "494c83e49de64a4199c15f0e68fceb1e": {
          "model_module": "@jupyter-widgets/base",
          "model_name": "LayoutModel",
          "state": {
            "_view_name": "LayoutView",
            "grid_template_rows": null,
            "right": null,
            "justify_content": null,
            "_view_module": "@jupyter-widgets/base",
            "_model_module_version": "1.2.0",
            "_view_count": null,
            "flex_flow": null,
            "min_width": null,
            "border": null,
            "align_items": null,
            "bottom": null,
            "_model_module": "@jupyter-widgets/base",
            "top": null,
            "grid_column": null,
            "width": null,
            "overflow_x": null,
            "grid_auto_flow": null,
            "grid_area": null,
            "grid_template_columns": null,
            "flex": null,
            "_model_name": "LayoutModel",
            "justify_items": null,
            "grid_row": null,
            "max_height": null,
            "align_content": null,
            "visibility": null,
            "overflow": null,
            "height": null,
            "min_height": null,
            "padding": null,
            "grid_auto_rows": null,
            "grid_gap": null,
            "overflow_y": null,
            "max_width": null,
            "order": null,
            "_view_module_version": "1.2.0",
            "align_self": null,
            "grid_template_areas": null,
            "object_position": null,
            "object_fit": null,
            "grid_auto_columns": null,
            "margin": null,
            "display": null,
            "left": null
          }
        }
      }
    }
  },
  "cells": [
    {
      "cell_type": "markdown",
      "metadata": {
        "id": "view-in-github",
        "colab_type": "text"
      },
      "source": [
        "<a href=\"https://colab.research.google.com/github/tlyonsWIT/Engineering-Maths-8.2/blob/master/Python%20Workbook%202%20-%20Differentiation.ipynb\" target=\"_parent\"><img src=\"https://colab.research.google.com/assets/colab-badge.svg\" alt=\"Open In Colab\"/></a>"
      ]
    },
    {
      "cell_type": "markdown",
      "metadata": {
        "id": "6f_O0BzGCZ3X"
      },
      "source": [
        "# Engineering Maths 8.2 - 2021\n",
        "\n",
        "## Chapter 2 - Fundamentals of Differentiation"
      ]
    },
    {
      "cell_type": "code",
      "metadata": {
        "id": "f6p_p5A0CZ3f"
      },
      "source": [
        "from __future__ import print_function\n",
        "from ipywidgets import interact, interactive, fixed, interact_manual\n",
        "import ipywidgets as widgets\n",
        "import matplotlib.pyplot as plt\n",
        "import numpy as np\n",
        "from numpy import cos, sin,tan,exp,log,pi,sqrt"
      ],
      "execution_count": 4,
      "outputs": []
    },
    {
      "cell_type": "code",
      "metadata": {
        "id": "Av-7K4TGCZ3i"
      },
      "source": [
        "def f(x):\n",
        "    return np.exp(4*x)"
      ],
      "execution_count": 5,
      "outputs": []
    },
    {
      "cell_type": "code",
      "metadata": {
        "id": "KEbfJCf8CZ3i"
      },
      "source": [
        "x=np.linspace(1.5,2.5,101)"
      ],
      "execution_count": 6,
      "outputs": []
    },
    {
      "cell_type": "code",
      "metadata": {
        "colab": {
          "base_uri": "https://localhost:8080/",
          "height": 301,
          "referenced_widgets": [
            "c8b0961b1d154b009defed1672b03ee2",
            "6caeeef08dff4918b494d4a9c4028705",
            "5540b31befa249c7b2f4b93cd4249f85",
            "158075f94aa84e8fa681a98181a74989",
            "0f6b90dd46a040a1b9115625dfc270e5",
            "f79afaf7e1c14b1bb769bba4ada92ea0",
            "494c83e49de64a4199c15f0e68fceb1e"
          ]
        },
        "id": "JyMu8ZrTCZ3t",
        "outputId": "ccbaf447-ac87-4931-87d0-e59a4cb7a4ec"
      },
      "source": [
        "\n",
        "@interact(h=(-0.5,0.5,0.0025)) \n",
        "def MovinPointPlot(h=0.5):\n",
        "  #plt.axis('off');\n",
        "  plt.plot(x,f(x),color='darkgreen',linewidth=2,label=r'$y=e^{4x}$')\n",
        "  x0=2\n",
        "  y0=f(x0)\n",
        "  x1=2+h\n",
        "  y1=f(x1)\n",
        "  plt.xlim(x0-0.55,x0+0.55)\n",
        "  plt.plot([x0,x1],[y0,y1],color='darkslategray')\n",
        "  plt.plot([x0,x1],[y0,y1],'o',color='xkcd:sky blue',markersize=12)"
      ],
      "execution_count": 21,
      "outputs": [
        {
          "output_type": "display_data",
          "data": {
            "application/vnd.jupyter.widget-view+json": {
              "model_id": "c8b0961b1d154b009defed1672b03ee2",
              "version_minor": 0,
              "version_major": 2
            },
            "text/plain": [
              "aW50ZXJhY3RpdmUoY2hpbGRyZW49KEZsb2F0U2xpZGVyKHZhbHVlPTAuNSwgZGVzY3JpcHRpb249dSdoJywgbWF4PTAuNSwgbWluPS0wLjUsIHN0ZXA9MC4wMDI1KSwgT3V0cHV0KCkpLCBfZG/igKY=\n"
            ]
          },
          "metadata": {
            "tags": []
          }
        }
      ]
    },
    {
      "cell_type": "code",
      "metadata": {
        "id": "I4-MvHKWIwu8"
      },
      "source": [
        ""
      ],
      "execution_count": null,
      "outputs": []
    }
  ]
}