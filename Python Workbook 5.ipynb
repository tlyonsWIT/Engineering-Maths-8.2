{
  "nbformat": 4,
  "nbformat_minor": 0,
  "metadata": {
    "kernelspec": {
      "display_name": "Python 3",
      "language": "python",
      "name": "python3"
    },
    "language_info": {
      "codemirror_mode": {
        "name": "ipython",
        "version": 3
      },
      "file_extension": ".py",
      "mimetype": "text/x-python",
      "name": "python",
      "nbconvert_exporter": "python",
      "pygments_lexer": "ipython3",
      "version": "3.8.5"
    },
    "colab": {
      "name": "Python Workbook 5.ipynb",
      "provenance": [],
      "include_colab_link": true
    }
  },
  "cells": [
    {
      "cell_type": "markdown",
      "metadata": {
        "id": "view-in-github",
        "colab_type": "text"
      },
      "source": [
        "<a href=\"https://colab.research.google.com/github/tlyonsWIT/Engineering-Maths-8.2/blob/master/Python%20Workbook%205.ipynb\" target=\"_parent\"><img src=\"https://colab.research.google.com/assets/colab-badge.svg\" alt=\"Open In Colab\"/></a>"
      ]
    },
    {
      "cell_type": "markdown",
      "metadata": {
        "id": "Ql_RQNVERgt0"
      },
      "source": [
        "# Engineering Maths 8.2\n",
        "## Python Workbook 5\n",
        "\n",
        "* This workbook will be used for plotting and shading __areas__ beneath curves in the $(x,y)$-plane, as part of __Lecture 17.pdf__.\n",
        "\n",
        "\n",
        "\n",
        "* It will also be used to calculate integrals numerically, which will be used with __Chapter 18.pdf__ where we calculate the __arc length__ along curves in the $(x,y)$-plane."
      ]
    },
    {
      "cell_type": "markdown",
      "metadata": {
        "id": "C0DjkvlKSoxe"
      },
      "source": [
        "### Importing libraries and functions\n",
        "\n",
        "* __REQUIRED:__ Run the cell below to import the necessary libraries and functions for this workbook."
      ]
    },
    {
      "cell_type": "code",
      "metadata": {
        "id": "u3g4DqXZRgt9"
      },
      "source": [
        "import numpy as np\n",
        "import matplotlib.pyplot as plt\n",
        "from numpy import cos, sin, tan, exp, log, tanh, cosh, sinh, arccos, arcsin, arctan, pi, sqrt, cbrt\n",
        "from google.colab import files"
      ],
      "execution_count": 17,
      "outputs": []
    },
    {
      "cell_type": "markdown",
      "metadata": {
        "id": "12qb1zEtS3ak"
      },
      "source": [
        "# Part A - Plotting Shaded Areas\n",
        "\n",
        "* __REQUIRED:__ In most cases, the only information you need to supply is the function $f(x)$ and the limits of integration $a$ and $b$.\n"
      ]
    },
    {
      "cell_type": "code",
      "metadata": {
        "id": "hp0DrLvuRgt_"
      },
      "source": [
        "def f(x):\n",
        "    return sin(pi*x)    # Change this line for each function.\n",
        "\n",
        "#-------------------------------------------------------------------------------\n",
        "\n",
        "a=0   # Set the lower limit of integration\n",
        "b=2   # Set the upper limit of integration"
      ],
      "execution_count": 48,
      "outputs": []
    },
    {
      "cell_type": "markdown",
      "metadata": {
        "id": "x3xyx5eVX8f_"
      },
      "source": [
        "* Run the cell below to plot the figure.\n",
        "\n",
        "* __NOTE:__ It is usually __not__ necessary to change any code in the cell below."
      ]
    },
    {
      "cell_type": "code",
      "metadata": {
        "colab": {
          "base_uri": "https://localhost:8080/",
          "height": 284
        },
        "id": "nKBl3O5lRguA",
        "outputId": "76ece1c2-5194-49df-ecc6-8d9c13e22a4d"
      },
      "source": [
        "#Setup axes, figure limits and steps sizes--------------------------------------------------------------\n",
        "x=np.linspace(a,b,501)\n",
        "dx=x[1]-x[0]\n",
        "dy=max(f(x+dx)-f(x))\n",
        "ymin=min(f(x))-dy\n",
        "ymax=max(f(x))+dy\n",
        "\n",
        "\n",
        "#Plot the funciton and the x and y axes---------------------------------------------------------------\n",
        "plt.plot(x,f(x),label='$y=f(x)$',color='darkslategray') # The curve\n",
        "plt.axhline(y=0,lw=1,color='k') # The x-axis\n",
        "plt.axvline(x=0,lw=1,color='k') # The y-axis\n",
        "\n",
        "\n",
        "#Fill beneath the curve-------------------------------------------------------------------------------\n",
        "plt.fill_between(x,0,f(x),where=f(x)>0,alpha=0.25,color='cornflowerblue') #Shade the +ve part blue\n",
        "plt.fill_between(x,0,f(x),where=f(x)<0,alpha=0.25,color='xkcd:forrest green') #Shade the +ve part blue\n",
        "\n",
        "\n",
        "#Label the x and y axes-------------------------------------------------------------------------------\n",
        "plt.ylabel('$y$-axis',size=10)\n",
        "plt.xlabel('$x$-axis',size=10)\n",
        "\n",
        "\n",
        "#Set the horizontal limits of of the plot------------------------------------------------------------- \n",
        "plt.xlim(a,b)\n",
        "plt.ylim(ymin,ymax)\n",
        "\n",
        "\n",
        "#Save the figure as a pdf file------------------------------------------------------------------------\n",
        "plt.savefig('FileName.pdf',bbox_inches='tight') # Change FileName.pdf as you want "
      ],
      "execution_count": 49,
      "outputs": [
        {
          "output_type": "display_data",
          "data": {
            "image/png": "[encoded data removed]",
            "text/plain": [
              "<Figure size 432x288 with 1 Axes>"
            ]
          },
          "metadata": {
            "tags": [],
            "needs_background": "light"
          }
        }
      ]
    },
    {
      "cell_type": "markdown",
      "metadata": {
        "id": "ZJKTLb73Yblg"
      },
      "source": [
        "* __DOWNLOAD:__ Run the cell below to download the pdf saved in the cell above.\n",
        "\n",
        "\n",
        "* This pdf is _usually_ stored in the __Downloads folder__ of your own computer. "
      ]
    },
    {
      "cell_type": "code",
      "metadata": {
        "colab": {
          "base_uri": "https://localhost:8080/",
          "height": 17
        },
        "id": "4VCBkmO1Yxj2",
        "outputId": "b346edee-1ea0-4d4b-bd60-0d729fb99f39"
      },
      "source": [
        "files.download('FileName.pdf') # Change FileName.pdf to match the file name used in the cell above."
      ],
      "execution_count": 50,
      "outputs": [
        {
          "output_type": "display_data",
          "data": {
            "application/javascript": [
              "\n",
              "    async function download(id, filename, size) {\n",
              "      if (!google.colab.kernel.accessAllowed) {\n",
              "        return;\n",
              "      }\n",
              "      const div = document.createElement('div');\n",
              "      const label = document.createElement('label');\n",
              "      label.textContent = `Downloading \"${filename}\": `;\n",
              "      div.appendChild(label);\n",
              "      const progress = document.createElement('progress');\n",
              "      progress.max = size;\n",
              "      div.appendChild(progress);\n",
              "      document.body.appendChild(div);\n",
              "\n",
              "      const buffers = [];\n",
              "      let downloaded = 0;\n",
              "\n",
              "      const channel = await google.colab.kernel.comms.open(id);\n",
              "      // Send a message to notify the kernel that we're ready.\n",
              "      channel.send({})\n",
              "\n",
              "      for await (const message of channel.messages) {\n",
              "        // Send a message to notify the kernel that we're ready.\n",
              "        channel.send({})\n",
              "        if (message.buffers) {\n",
              "          for (const buffer of message.buffers) {\n",
              "            buffers.push(buffer);\n",
              "            downloaded += buffer.byteLength;\n",
              "            progress.value = downloaded;\n",
              "          }\n",
              "        }\n",
              "      }\n",
              "      const blob = new Blob(buffers, {type: 'application/binary'});\n",
              "      const a = document.createElement('a');\n",
              "      a.href = window.URL.createObjectURL(blob);\n",
              "      a.download = filename;\n",
              "      div.appendChild(a);\n",
              "      a.click();\n",
              "      div.remove();\n",
              "    }\n",
              "  "
            ],
            "text/plain": [
              "<IPython.core.display.Javascript object>"
            ]
          },
          "metadata": {
            "tags": []
          }
        },
        {
          "output_type": "display_data",
          "data": {
            "application/javascript": [
              "download(\"download_63700c10-9267-4142-98c5-9f3deb049c06\", \"FileName.pdf\", 15325)"
            ],
            "text/plain": [
              "<IPython.core.display.Javascript object>"
            ]
          },
          "metadata": {
            "tags": []
          }
        }
      ]
    },
    {
      "cell_type": "code",
      "metadata": {
        "id": "1unxiZClY9TT"
      },
      "source": [
        ""
      ],
      "execution_count": null,
      "outputs": []
    },
    {
      "cell_type": "markdown",
      "metadata": {
        "id": "OqNlODqSaJPK"
      },
      "source": [
        "# Part B - Calculating & Plotting Arc Lengths\n",
        "\n",
        "\n",
        "\n",
        "* __REQUIRED:__ In most cases, the only information you need to supply is: \n",
        "\n",
        " 1. The function $f(x)$\n",
        " 2. Its derivative $\\frac{df}{dx}(x)$.\n",
        " 3. The limits of integration $a$ and $b$.\n",
        " 4. The number of points $N$ to be used in the trapezoidal rule.\n"
      ]
    },
    {
      "cell_type": "code",
      "metadata": {
        "id": "FAzKBeT0aDCH"
      },
      "source": [
        "def f(x):\n",
        "    return 1-x**2            # Change this line for each new curve\n",
        "\n",
        "def df(x):\n",
        "    return -2*x            # Calculate the derivative by hand and supply it here\n",
        "\n",
        "a= -1                # The lower limit of integration\n",
        "b= 2                 # The upper limit of integration\n",
        "\n",
        "\n",
        "N=500                # The number of points for the trapezoidal rule."
      ],
      "execution_count": 54,
      "outputs": []
    },
    {
      "cell_type": "markdown",
      "metadata": {
        "id": "jDI5-LjXbq6t"
      },
      "source": [
        "### Calculating the arc-length\n",
        "\n",
        "__IMPORTANT:__ Usually it is __not__ necessary to change any of the code in the cell below."
      ]
    },
    {
      "cell_type": "code",
      "metadata": {
        "colab": {
          "base_uri": "https://localhost:8080/"
        },
        "id": "STW7nM-obaoi",
        "outputId": "aeb5b969-bfb1-4412-ba08-66948d3855ef"
      },
      "source": [
        "# Define the infinitessimal arc-length ds\n",
        "def ds(x):\n",
        "    return np.sqrt(1+df(x)**2)\n",
        "\n",
        "# Set up the x-interval with N points\n",
        "x=np.linspace(a,b,N)\n",
        "\n",
        "# Calculate arc length using the trapezoidal rule\n",
        "s=np.trapz(ds(x),x)\n",
        "\n",
        "# Print the arc length on-screen\n",
        "print('The arc length of f(x) between x=%s and x=%s is s=%s units.' % (a,b,s))"
      ],
      "execution_count": 38,
      "outputs": [
        {
          "output_type": "stream",
          "text": [
            "The arc length of f(x) between x=-1 and x=2 is s=6.125737852281665 units.\n"
          ],
          "name": "stdout"
        }
      ]
    },
    {
      "cell_type": "code",
      "metadata": {
        "id": "IUkkpvGcc14j"
      },
      "source": [
        ""
      ],
      "execution_count": null,
      "outputs": []
    },
    {
      "cell_type": "markdown",
      "metadata": {
        "id": "x7RpJQCLdsvL"
      },
      "source": [
        "## Plotting the arc length.\n",
        "\n",
        "* __NOTE:__ All of the information for the plot has already been supplied for the calculation of the arc length, simply run the cell below to plot it."
      ]
    },
    {
      "cell_type": "code",
      "metadata": {
        "colab": {
          "base_uri": "https://localhost:8080/",
          "height": 285
        },
        "id": "uin3BYPqd9dh",
        "outputId": "485ea402-082b-4d83-d438-85050fa4a9ab"
      },
      "source": [
        "#Setup axes, figure limits and steps sizes--------------------------------------------------------------\n",
        "x=np.linspace(a-1,b+1,501)\n",
        "xarc=np.linspace(a,b,501)\n",
        "dx=x[1]-x[0]\n",
        "dy=max(f(x+dx)-f(x))\n",
        "ymin=min(f(x))-1\n",
        "ymax=max(f(x))+1\n",
        "\n",
        "\n",
        "#Plot the funciton and the x and y axes---------------------------------------------------------------\n",
        "plt.plot(x,f(x),color='darkslategray') # The curve\n",
        "plt.axhline(y=0,lw=1,color='k') # The x-axis\n",
        "plt.axvline(x=0,lw=1,color='k') # The y-axis\n",
        "\n",
        "\n",
        "#Plot the arc lenght----------------------------------------------------------------------------------\n",
        "plt.plot(xarc,f(xarc),label='Arc length $s$',color='red') # The curve\n",
        "plt.legend()\n",
        "\n",
        "#Label the x and y axes-------------------------------------------------------------------------------\n",
        "plt.ylabel('$y$-axis',size=10)\n",
        "plt.xlabel('$x$-axis',size=10)\n",
        "\n",
        "\n",
        "#Set the horizontal limits of of the plot------------------------------------------------------------- \n",
        "plt.xlim(a-1,b+1)\n",
        "plt.ylim(ymin,ymax)\n",
        "\n",
        "\n",
        "#Save the figure as a pdf file------------------------------------------------------------------------\n",
        "plt.savefig('FileName2.pdf',bbox_inches='tight') # Change FileName2.pdf as you want "
      ],
      "execution_count": 55,
      "outputs": [
        {
          "output_type": "display_data",
          "data": {
            "image/png": "[encoded data removed]",
            "text/plain": [
              "<Figure size 432x288 with 1 Axes>"
            ]
          },
          "metadata": {
            "tags": [],
            "needs_background": "light"
          }
        }
      ]
    },
    {
      "cell_type": "markdown",
      "metadata": {
        "id": "OLLPfdh-fl2a"
      },
      "source": [
        "* __DOWNLOAD:__ Run the cell below to download the pdf saved in the cell above.\n",
        "\n",
        "\n",
        "* This pdf is _usually_ stored in the __Downloads folder__ of your own computer. "
      ]
    },
    {
      "cell_type": "code",
      "metadata": {
        "colab": {
          "base_uri": "https://localhost:8080/",
          "height": 17
        },
        "id": "TLywPMvWfoio",
        "outputId": "db66dd00-982b-414f-f114-2812d5ca9c3a"
      },
      "source": [
        "files.download('FileName2.pdf') # Change FileName2.pdf to match the file name used in the cell above."
      ],
      "execution_count": 56,
      "outputs": [
        {
          "output_type": "display_data",
          "data": {
            "application/javascript": [
              "\n",
              "    async function download(id, filename, size) {\n",
              "      if (!google.colab.kernel.accessAllowed) {\n",
              "        return;\n",
              "      }\n",
              "      const div = document.createElement('div');\n",
              "      const label = document.createElement('label');\n",
              "      label.textContent = `Downloading \"${filename}\": `;\n",
              "      div.appendChild(label);\n",
              "      const progress = document.createElement('progress');\n",
              "      progress.max = size;\n",
              "      div.appendChild(progress);\n",
              "      document.body.appendChild(div);\n",
              "\n",
              "      const buffers = [];\n",
              "      let downloaded = 0;\n",
              "\n",
              "      const channel = await google.colab.kernel.comms.open(id);\n",
              "      // Send a message to notify the kernel that we're ready.\n",
              "      channel.send({})\n",
              "\n",
              "      for await (const message of channel.messages) {\n",
              "        // Send a message to notify the kernel that we're ready.\n",
              "        channel.send({})\n",
              "        if (message.buffers) {\n",
              "          for (const buffer of message.buffers) {\n",
              "            buffers.push(buffer);\n",
              "            downloaded += buffer.byteLength;\n",
              "            progress.value = downloaded;\n",
              "          }\n",
              "        }\n",
              "      }\n",
              "      const blob = new Blob(buffers, {type: 'application/binary'});\n",
              "      const a = document.createElement('a');\n",
              "      a.href = window.URL.createObjectURL(blob);\n",
              "      a.download = filename;\n",
              "      div.appendChild(a);\n",
              "      a.click();\n",
              "      div.remove();\n",
              "    }\n",
              "  "
            ],
            "text/plain": [
              "<IPython.core.display.Javascript object>"
            ]
          },
          "metadata": {
            "tags": []
          }
        },
        {
          "output_type": "display_data",
          "data": {
            "application/javascript": [
              "download(\"download_f8fe7ac1-8465-4c15-bacb-612fa6a4fff8\", \"FileName2.pdf\", 14227)"
            ],
            "text/plain": [
              "<IPython.core.display.Javascript object>"
            ]
          },
          "metadata": {
            "tags": []
          }
        }
      ]
    },
    {
      "cell_type": "code",
      "metadata": {
        "id": "yJDZwMWofy2u"
      },
      "source": [
        ""
      ],
      "execution_count": null,
      "outputs": []
    }
  ]
}