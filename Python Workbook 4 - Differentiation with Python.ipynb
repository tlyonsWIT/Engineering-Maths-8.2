{
  "nbformat": 4,
  "nbformat_minor": 0,
  "metadata": {
    "colab": {
      "name": "Python Workbook 4 - Differentiation with Python.ipynb",
      "provenance": [],
      "authorship_tag": "ABX9TyMvp/sUNBhLkXrVZoupLaKJ",
      "include_colab_link": true
    },
    "kernelspec": {
      "name": "python3",
      "display_name": "Python 3"
    }
  },
  "cells": [
    {
      "cell_type": "markdown",
      "metadata": {
        "id": "view-in-github",
        "colab_type": "text"
      },
      "source": [
        "<a href=\"https://colab.research.google.com/github/tlyonsWIT/Engineering-Maths-8.2/blob/master/Python%20Workbook%204%20-%20Differentiation%20with%20Python.ipynb\" target=\"_parent\"><img src=\"https://colab.research.google.com/assets/colab-badge.svg\" alt=\"Open In Colab\"/></a>"
      ]
    },
    {
      "cell_type": "code",
      "metadata": {
        "id": "c_2ISHdinage"
      },
      "source": [
        "from sympy import *\n",
        "from sympy import init_printing\n",
        "init_printing()"
      ],
      "execution_count": null,
      "outputs": []
    },
    {
      "cell_type": "code",
      "metadata": {
        "colab": {
          "base_uri": "https://localhost:8080/",
          "height": 39
        },
        "id": "wdvz3SwXnid4",
        "outputId": "55e8a871-f7de-49b7-9f60-8295f74849a8"
      },
      "source": [
        "x=symbols('x')\n",
        "x"
      ],
      "execution_count": null,
      "outputs": [
        {
          "output_type": "execute_result",
          "data": {
            "image/png": "[encoded data removed]",
            "text/latex": "$$x$$",
            "text/plain": [
              "x"
            ]
          },
          "metadata": {
            "tags": []
          },
          "execution_count": 5
        }
      ]
    },
    {
      "cell_type": "code",
      "metadata": {
        "colab": {
          "base_uri": "https://localhost:8080/",
          "height": 41
        },
        "id": "5OmIrtuNnre-",
        "outputId": "6af0b07f-d722-485d-bb3a-33a5450052d5"
      },
      "source": [
        "f=(x**7+x**5-x**3)/(x**6+x**4+x**2)\n",
        "f"
      ],
      "execution_count": null,
      "outputs": [
        {
          "output_type": "execute_result",
          "data": {
            "image/png": "[encoded data removed]",
            "text/latex": "$$\\frac{x^{7} + x^{5} - x^{3}}{x^{6} + x^{4} + x^{2}}$$",
            "text/plain": [
              " 7    5    3\n",
              "x  + x  - x \n",
              "────────────\n",
              " 6    4    2\n",
              "x  + x  + x "
            ]
          },
          "metadata": {
            "tags": []
          },
          "execution_count": 6
        }
      ]
    },
    {
      "cell_type": "code",
      "metadata": {
        "colab": {
          "base_uri": "https://localhost:8080/",
          "height": 41
        },
        "id": "yjNRfjRGoCby",
        "outputId": "c3d43e14-d93a-4270-e936-293633029caa"
      },
      "source": [
        "diff(f,x).simplify()"
      ],
      "execution_count": null,
      "outputs": [
        {
          "output_type": "execute_result",
          "data": {
            "image/png": "[encoded data removed]",
            "text/latex": "$$\\frac{x^{8} + 2 x^{6} + 9 x^{4} + 4 x^{2} - 1}{x^{8} + 2 x^{6} + 3 x^{4} + 2 x^{2} + 1}$$",
            "text/plain": [
              " 8      6      4      2    \n",
              "x  + 2⋅x  + 9⋅x  + 4⋅x  - 1\n",
              "───────────────────────────\n",
              " 8      6      4      2    \n",
              "x  + 2⋅x  + 3⋅x  + 2⋅x  + 1"
            ]
          },
          "metadata": {
            "tags": []
          },
          "execution_count": 8
        }
      ]
    },
    {
      "cell_type": "code",
      "metadata": {
        "id": "lYtzIG6moIp4"
      },
      "source": [
        ""
      ],
      "execution_count": null,
      "outputs": []
    }
  ]
}