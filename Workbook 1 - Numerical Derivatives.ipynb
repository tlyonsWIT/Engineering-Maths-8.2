{
  "nbformat": 4,
  "nbformat_minor": 0,
  "metadata": {
    "kernelspec": {
      "display_name": "Python 3",
      "language": "python",
      "name": "python3"
    },
    "language_info": {
      "codemirror_mode": {
        "name": "ipython",
        "version": 3
      },
      "file_extension": ".py",
      "mimetype": "text/x-python",
      "name": "python",
      "nbconvert_exporter": "python",
      "pygments_lexer": "ipython3",
      "version": "3.7.0"
    },
    "colab": {
      "name": "Workbook 1 - Numerical Derivatives.ipynb",
      "provenance": []
    }
  },
  "cells": [
    {
      "cell_type": "markdown",
      "metadata": {
        "id": "G_aYl2idHtfY",
        "colab_type": "text"
      },
      "source": [
        "# Engineering Maths 8.2\n",
        "\n",
        "## Python Workbook 1\n",
        "\n",
        "## Numerical Derivatives"
      ]
    },
    {
      "cell_type": "code",
      "metadata": {
        "id": "wyavIF07Htfg",
        "colab_type": "code",
        "colab": {}
      },
      "source": [
        "from matplotlib import pyplot as plt\n",
        "import numpy as np"
      ],
      "execution_count": 0,
      "outputs": []
    },
    {
      "cell_type": "markdown",
      "metadata": {
        "id": "21QmH4XaHzD4",
        "colab_type": "text"
      },
      "source": [
        "* In this workbook we outline how to define a function using Pyhton.\n",
        "\n",
        "\n",
        "* To begin, we must run the cell above containing __from matplotlib__ etc.\n",
        "\n",
        "\n",
        "* To run the cell, hover the mouse over the square brackets, at which point a __play button__ appears. Press this to run the cell.\n",
        "\n",
        "* When this is run for the first time a security notice may appear. You should press __Run Anyway__.\n",
        "\n",
        "\n",
        "* This has imported some useful numerical function whic hmay be handy later on.\n",
        "\n",
        "\n",
        "* Ther are 2 types of cells in these workbooks.\n",
        "  1. __Markdown__ These cells appear as normal text. This cell is a Markdown cell.\n",
        "\n",
        "  2. __Python__ The python cells appear as grey cells. These are the cells where the python code is actualy entered and run."
      ]
    },
    {
      "cell_type": "markdown",
      "metadata": {
        "id": "w8TcUoOOHtfw",
        "colab_type": "text"
      },
      "source": [
        "## Example 1:\n",
        "\n",
        "Given the function \n",
        "$$f(x)=x^3-x^2+1$$\n",
        "answer the following:\n",
        "\n",
        "__(1)__ Evaluate f(2).\n",
        "\n",
        "__(2)__ Evaluate f(2+h) for \n",
        "\n",
        "$$h =1,h=0.1 \\text{ and } h=0.01$$\n",
        "\n",
        "\n",
        "__(3)__ Evaluate \n",
        "$$\\frac{f(2+h)-f(2)}{h}$$\n",
        " for each of the $h$ values given above.\n",
        " \n",
        " \n",
        "__(4)__ Hence estimate $\\frac{df}{dx}(2)$."
      ]
    },
    {
      "cell_type": "markdown",
      "metadata": {
        "id": "_bF3xouvHtf0",
        "colab_type": "text"
      },
      "source": [
        "#### Part 1\n",
        "\n",
        "* First we __define__ a Pytyhon function to represent $f(x)$, as follows:"
      ]
    },
    {
      "cell_type": "code",
      "metadata": {
        "id": "fdj-a9XlHtf3",
        "colab_type": "code",
        "colab": {}
      },
      "source": [
        "def f(x):\n",
        "    return x**3-x**2+1"
      ],
      "execution_count": 0,
      "outputs": []
    },
    {
      "cell_type": "markdown",
      "metadata": {
        "id": "EIggVvNAHtgC",
        "colab_type": "text"
      },
      "source": [
        "* Now we evaualuate $f(2)$ using the function we just defined: "
      ]
    },
    {
      "cell_type": "code",
      "metadata": {
        "id": "BLXok9nqHtgG",
        "colab_type": "code",
        "colab": {
          "base_uri": "https://localhost:8080/",
          "height": 35
        },
        "outputId": "e703751a-2931-4e0e-efdf-66d5ac4defbf"
      },
      "source": [
        "f(2)"
      ],
      "execution_count": 3,
      "outputs": [
        {
          "output_type": "execute_result",
          "data": {
            "text/plain": [
              "5"
            ]
          },
          "metadata": {
            "tags": []
          },
          "execution_count": 3
        }
      ]
    },
    {
      "cell_type": "markdown",
      "metadata": {
        "id": "3wOvMr07HtgQ",
        "colab_type": "text"
      },
      "source": [
        "#### Part 2\n",
        "\n",
        "* We create a vector to represent the values of $h$ as follows:"
      ]
    },
    {
      "cell_type": "code",
      "metadata": {
        "id": "dKwfAaABHtgT",
        "colab_type": "code",
        "colab": {
          "base_uri": "https://localhost:8080/",
          "height": 35
        },
        "outputId": "64cf779e-9ca6-43d3-db6b-4ab450eaac22"
      },
      "source": [
        "h=np.array([1.0,0.1,0.01])\n",
        "h"
      ],
      "execution_count": 4,
      "outputs": [
        {
          "output_type": "execute_result",
          "data": {
            "text/plain": [
              "array([1.  , 0.1 , 0.01])"
            ]
          },
          "metadata": {
            "tags": []
          },
          "execution_count": 4
        }
      ]
    },
    {
      "cell_type": "markdown",
      "metadata": {
        "id": "f7kzdJAiHtgb",
        "colab_type": "text"
      },
      "source": [
        "* Now we evaluate the function $f(2+h)$ using $f$ and $h$ from above:"
      ]
    },
    {
      "cell_type": "code",
      "metadata": {
        "id": "N4Tb-_6aHtge",
        "colab_type": "code",
        "colab": {},
        "outputId": "8d4dd20d-397f-4c0e-dec4-785e42dd7aeb"
      },
      "source": [
        "f(2+h)"
      ],
      "execution_count": 0,
      "outputs": [
        {
          "output_type": "execute_result",
          "data": {
            "text/plain": [
              "array([19.      ,  5.851   ,  5.080501])"
            ]
          },
          "metadata": {
            "tags": []
          },
          "execution_count": 13
        }
      ]
    },
    {
      "cell_type": "markdown",
      "metadata": {
        "id": "YsTfohhcHtgm",
        "colab_type": "text"
      },
      "source": [
        "#### Part 3\n",
        "\n",
        "* Now we can use the $f$ and $h$ defined above to evaluate the ratio $\\frac{f(2+h)-f(2)}{2}$."
      ]
    },
    {
      "cell_type": "code",
      "metadata": {
        "id": "zsOcDBs2Htgp",
        "colab_type": "code",
        "colab": {},
        "outputId": "486884aa-f125-4553-ba7d-9a5362244e67"
      },
      "source": [
        "(f(2+h)-f(2))/h"
      ],
      "execution_count": 0,
      "outputs": [
        {
          "output_type": "execute_result",
          "data": {
            "text/plain": [
              "array([14.    ,  8.51  ,  8.0501])"
            ]
          },
          "metadata": {
            "tags": []
          },
          "execution_count": 14
        }
      ]
    },
    {
      "cell_type": "markdown",
      "metadata": {
        "id": "S_yYGMSuHtgy",
        "colab_type": "text"
      },
      "source": [
        "#### Part 4\n",
        "\n",
        "* It appears that as $h\\to0$ then $\\frac{f(2+h)-f(2)}{2}\\to 8$, and we estimate\n",
        "\n",
        "$$\\frac{df}{dx}(2)\\approx8.$$"
      ]
    },
    {
      "cell_type": "markdown",
      "metadata": {
        "id": "LgXt3XzaJL4B",
        "colab_type": "text"
      },
      "source": [
        "* If you want to add a new __Python cell__ to this workbook press the button __+Code__ above.\n",
        "\n",
        "\n",
        "* If you want to add a new __Markdown cell__ to the workbook press the button __Text__ above."
      ]
    },
    {
      "cell_type": "code",
      "metadata": {
        "id": "_NTW9QfvHtg0",
        "colab_type": "code",
        "colab": {}
      },
      "source": [
        ""
      ],
      "execution_count": 0,
      "outputs": []
    },
    {
      "cell_type": "markdown",
      "metadata": {
        "id": "0xZYbzX6JLFu",
        "colab_type": "text"
      },
      "source": [
        ""
      ]
    },
    {
      "cell_type": "code",
      "metadata": {
        "id": "2_724gqsJJ6L",
        "colab_type": "code",
        "colab": {}
      },
      "source": [
        ""
      ],
      "execution_count": 0,
      "outputs": []
    },
    {
      "cell_type": "code",
      "metadata": {
        "id": "86xSepi0JJ9i",
        "colab_type": "code",
        "colab": {}
      },
      "source": [
        ""
      ],
      "execution_count": 0,
      "outputs": []
    },
    {
      "cell_type": "code",
      "metadata": {
        "id": "n6tuklvVJKAN",
        "colab_type": "code",
        "colab": {}
      },
      "source": [
        ""
      ],
      "execution_count": 0,
      "outputs": []
    }
  ]
}