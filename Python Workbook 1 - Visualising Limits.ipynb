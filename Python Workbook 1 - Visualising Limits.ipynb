{
  "nbformat": 4,
  "nbformat_minor": 0,
  "metadata": {
    "kernelspec": {
      "display_name": "Python 3",
      "language": "python",
      "name": "python3"
    },
    "language_info": {
      "codemirror_mode": {
        "name": "ipython",
        "version": 3
      },
      "file_extension": ".py",
      "mimetype": "text/x-python",
      "name": "python",
      "nbconvert_exporter": "python",
      "pygments_lexer": "ipython3",
      "version": "3.7.3"
    },
    "colab": {
      "name": "Python Workbook 1 - Visualising Limits.ipynb",
      "provenance": [],
      "include_colab_link": true
    },
    "widgets": {
      "application/vnd.jupyter.widget-state+json": {
        "d3c1a61ca1f04dc68736be66849f87aa": {
          "model_module": "@jupyter-widgets/controls",
          "model_name": "VBoxModel",
          "state": {
            "_view_name": "VBoxView",
            "_dom_classes": [
              "widget-interact"
            ],
            "_model_name": "VBoxModel",
            "_view_module": "@jupyter-widgets/controls",
            "_model_module_version": "1.5.0",
            "_view_count": null,
            "_view_module_version": "1.5.0",
            "box_style": "",
            "layout": "IPY_MODEL_afa253d003de46b9be82e1b19b9f6c1a",
            "_model_module": "@jupyter-widgets/controls",
            "children": [
              "IPY_MODEL_f6e55832f4db4e87b654091c4df3771a",
              "IPY_MODEL_e7ec8ba358804c839438c755717ef8c9"
            ]
          }
        },
        "afa253d003de46b9be82e1b19b9f6c1a": {
          "model_module": "@jupyter-widgets/base",
          "model_name": "LayoutModel",
          "state": {
            "_view_name": "LayoutView",
            "grid_template_rows": null,
            "right": null,
            "justify_content": null,
            "_view_module": "@jupyter-widgets/base",
            "overflow": null,
            "_model_module_version": "1.2.0",
            "_view_count": null,
            "flex_flow": null,
            "width": null,
            "min_width": null,
            "border": null,
            "align_items": null,
            "bottom": null,
            "_model_module": "@jupyter-widgets/base",
            "top": null,
            "grid_column": null,
            "overflow_y": null,
            "overflow_x": null,
            "grid_auto_flow": null,
            "grid_area": null,
            "grid_template_columns": null,
            "flex": null,
            "_model_name": "LayoutModel",
            "justify_items": null,
            "grid_row": null,
            "max_height": null,
            "align_content": null,
            "visibility": null,
            "align_self": null,
            "height": null,
            "min_height": null,
            "padding": null,
            "grid_auto_rows": null,
            "grid_gap": null,
            "max_width": null,
            "order": null,
            "_view_module_version": "1.2.0",
            "grid_template_areas": null,
            "object_position": null,
            "object_fit": null,
            "grid_auto_columns": null,
            "margin": null,
            "display": null,
            "left": null
          }
        },
        "f6e55832f4db4e87b654091c4df3771a": {
          "model_module": "@jupyter-widgets/controls",
          "model_name": "FloatSliderModel",
          "state": {
            "_view_name": "FloatSliderView",
            "style": "IPY_MODEL_9c1c73b731534690b7179288bdcb271a",
            "_dom_classes": [],
            "description": "h",
            "step": 0.1,
            "_model_name": "FloatSliderModel",
            "orientation": "horizontal",
            "max": 1.5,
            "_view_module": "@jupyter-widgets/controls",
            "_model_module_version": "1.5.0",
            "value": 0.7,
            "_view_count": null,
            "disabled": false,
            "_view_module_version": "1.5.0",
            "min": -0.5,
            "continuous_update": true,
            "readout_format": ".2f",
            "description_tooltip": null,
            "readout": true,
            "_model_module": "@jupyter-widgets/controls",
            "layout": "IPY_MODEL_cc73347319be4cf4ad2c59b7d87a57c6"
          }
        },
        "e7ec8ba358804c839438c755717ef8c9": {
          "model_module": "@jupyter-widgets/output",
          "model_name": "OutputModel",
          "state": {
            "_view_name": "OutputView",
            "msg_id": "",
            "_dom_classes": [],
            "_model_name": "OutputModel",
            "outputs": [
              {
                "output_type": "stream",
                "metadata": {
                  "tags": []
                },
                "text": "(2.7, 8.290000000000001)\n",
                "stream": "stdout"
              },
              {
                "output_type": "display_data",
                "metadata": {
                  "tags": [],
                  "needs_background": "light"
                },
                "image/png": "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\n",
                "text/plain": "<Figure size 432x288 with 1 Axes>"
              }
            ],
            "_view_module": "@jupyter-widgets/output",
            "_model_module_version": "1.0.0",
            "_view_count": null,
            "_view_module_version": "1.0.0",
            "layout": "IPY_MODEL_d5aded027c65494a9ef947d4b36d3a22",
            "_model_module": "@jupyter-widgets/output"
          }
        },
        "9c1c73b731534690b7179288bdcb271a": {
          "model_module": "@jupyter-widgets/controls",
          "model_name": "SliderStyleModel",
          "state": {
            "_view_name": "StyleView",
            "handle_color": null,
            "_model_name": "SliderStyleModel",
            "description_width": "",
            "_view_module": "@jupyter-widgets/base",
            "_model_module_version": "1.5.0",
            "_view_count": null,
            "_view_module_version": "1.2.0",
            "_model_module": "@jupyter-widgets/controls"
          }
        },
        "cc73347319be4cf4ad2c59b7d87a57c6": {
          "model_module": "@jupyter-widgets/base",
          "model_name": "LayoutModel",
          "state": {
            "_view_name": "LayoutView",
            "grid_template_rows": null,
            "right": null,
            "justify_content": null,
            "_view_module": "@jupyter-widgets/base",
            "overflow": null,
            "_model_module_version": "1.2.0",
            "_view_count": null,
            "flex_flow": null,
            "width": null,
            "min_width": null,
            "border": null,
            "align_items": null,
            "bottom": null,
            "_model_module": "@jupyter-widgets/base",
            "top": null,
            "grid_column": null,
            "overflow_y": null,
            "overflow_x": null,
            "grid_auto_flow": null,
            "grid_area": null,
            "grid_template_columns": null,
            "flex": null,
            "_model_name": "LayoutModel",
            "justify_items": null,
            "grid_row": null,
            "max_height": null,
            "align_content": null,
            "visibility": null,
            "align_self": null,
            "height": null,
            "min_height": null,
            "padding": null,
            "grid_auto_rows": null,
            "grid_gap": null,
            "max_width": null,
            "order": null,
            "_view_module_version": "1.2.0",
            "grid_template_areas": null,
            "object_position": null,
            "object_fit": null,
            "grid_auto_columns": null,
            "margin": null,
            "display": null,
            "left": null
          }
        },
        "d5aded027c65494a9ef947d4b36d3a22": {
          "model_module": "@jupyter-widgets/base",
          "model_name": "LayoutModel",
          "state": {
            "_view_name": "LayoutView",
            "grid_template_rows": null,
            "right": null,
            "justify_content": null,
            "_view_module": "@jupyter-widgets/base",
            "overflow": null,
            "_model_module_version": "1.2.0",
            "_view_count": null,
            "flex_flow": null,
            "width": null,
            "min_width": null,
            "border": null,
            "align_items": null,
            "bottom": null,
            "_model_module": "@jupyter-widgets/base",
            "top": null,
            "grid_column": null,
            "overflow_y": null,
            "overflow_x": null,
            "grid_auto_flow": null,
            "grid_area": null,
            "grid_template_columns": null,
            "flex": null,
            "_model_name": "LayoutModel",
            "justify_items": null,
            "grid_row": null,
            "max_height": null,
            "align_content": null,
            "visibility": null,
            "align_self": null,
            "height": null,
            "min_height": null,
            "padding": null,
            "grid_auto_rows": null,
            "grid_gap": null,
            "max_width": null,
            "order": null,
            "_view_module_version": "1.2.0",
            "grid_template_areas": null,
            "object_position": null,
            "object_fit": null,
            "grid_auto_columns": null,
            "margin": null,
            "display": null,
            "left": null
          }
        }
      }
    }
  },
  "cells": [
    {
      "cell_type": "markdown",
      "metadata": {
        "id": "view-in-github",
        "colab_type": "text"
      },
      "source": [
        "<a href=\"https://colab.research.google.com/github/tlyonsWIT/Engineering-Maths-8.2/blob/master/Python%20Workbook%201%20-%20Visualising%20Limits.ipynb\" target=\"_parent\"><img src=\"https://colab.research.google.com/assets/colab-badge.svg\" alt=\"Open In Colab\"/></a>"
      ]
    },
    {
      "cell_type": "markdown",
      "metadata": {
        "id": "WnrBzWybAK7B"
      },
      "source": [
        "# Engineering Maths 8.2 - Inroduction to Limits\n",
        "\n",
        "\n",
        "## Visualising analytic limits"
      ]
    },
    {
      "cell_type": "markdown",
      "metadata": {
        "id": "_aUSMJa-AK7J"
      },
      "source": [
        "The `interact` function (`ipywidgets.interact`) automatically creates user interface (UI) controls for exploring code and data interactively. It is the easiest way to get started using IPython's widgets."
      ]
    },
    {
      "cell_type": "code",
      "metadata": {
        "id": "9t7ql_2aAK7K"
      },
      "source": [
        "from __future__ import print_function\n",
        "from ipywidgets import interact, interactive, fixed, interact_manual\n",
        "import ipywidgets as widgets\n",
        "import numpy as np\n",
        "import matplotlib.pyplot as plt"
      ],
      "execution_count": 2,
      "outputs": []
    },
    {
      "cell_type": "markdown",
      "metadata": {
        "id": "NL7uk0nTAK7M"
      },
      "source": [
        "## Defining the function "
      ]
    },
    {
      "cell_type": "markdown",
      "metadata": {
        "id": "_fZzdBnAAK7N"
      },
      "source": [
        "* In this case we are going to visulse the limits of the function\n",
        "$$ 1+x^2$$\n",
        "\n",
        "\n",
        "\n",
        "* We are going to examine the left and right limits of this function about the point $x=2$.\n",
        "\n",
        "\n",
        "\n",
        "* The first thing to do is define a pyrhon function to represent this:"
      ]
    },
    {
      "cell_type": "code",
      "metadata": {
        "id": "ietnTtThAK7N"
      },
      "source": [
        "def f(x):\n",
        "    return 1+x**2"
      ],
      "execution_count": 3,
      "outputs": []
    },
    {
      "cell_type": "markdown",
      "metadata": {
        "id": "uXZO-Lv3E6me"
      },
      "source": [
        "* Next we plot the function between $x=0$ and $x=3$, to see what it looks like."
      ]
    },
    {
      "cell_type": "code",
      "metadata": {
        "colab": {
          "base_uri": "https://localhost:8080/",
          "height": 286
        },
        "id": "VfGulkKRAmjZ",
        "outputId": "22f3c341-b648-46db-eeec-d51341767577"
      },
      "source": [
        "X=np.linspace(0,3,501)\n",
        "plt.plot(X,f(X))\n",
        "plt.plot([2,2],[0,f(2)],ls='--',color='darkslategray')\n",
        "plt.plot([0,2],[f(2),f(2)],ls='--',color='darkslategray')\n",
        "plt.xlim(0,3)\n",
        "plt.ylim(0,10)"
      ],
      "execution_count": 4,
      "outputs": [
        {
          "output_type": "execute_result",
          "data": {
            "text/plain": [
              "(0.0, 10.0)"
            ]
          },
          "metadata": {
            "tags": []
          },
          "execution_count": 4
        },
        {
          "output_type": "display_data",
          "data": {
            "image/png": "[encoded data removed]",
            "text/plain": [
              "<Figure size 432x288 with 1 Axes>"
            ]
          },
          "metadata": {
            "tags": [],
            "needs_background": "light"
          }
        }
      ]
    },
    {
      "cell_type": "markdown",
      "metadata": {
        "id": "QETGlf7UAK7O"
      },
      "source": [
        "## The Moving Point Plot\n",
        "\n",
        "\n",
        "* No we re-create the same plot, but we include a __moving point__ whose position we can adjust with a slider. "
      ]
    },
    {
      "cell_type": "code",
      "metadata": {
        "colab": {
          "base_uri": "https://localhost:8080/",
          "height": 318,
          "referenced_widgets": [
            "d3c1a61ca1f04dc68736be66849f87aa",
            "afa253d003de46b9be82e1b19b9f6c1a",
            "f6e55832f4db4e87b654091c4df3771a",
            "e7ec8ba358804c839438c755717ef8c9",
            "9c1c73b731534690b7179288bdcb271a",
            "cc73347319be4cf4ad2c59b7d87a57c6",
            "d5aded027c65494a9ef947d4b36d3a22"
          ]
        },
        "id": "qGn8P0w8Bbw9",
        "outputId": "9c37ddf6-77fb-4554-bd70-adf4f54dca6d"
      },
      "source": [
        "@interact(h=0.5) # Tell python the generate an interctive slider for the variable h, and set its initial value to 0.5\n",
        "\n",
        "def MovinPointPlot(h):\n",
        "  X=np.linspace(0,3,501)\n",
        "  plt.plot(X,f(X))\n",
        "  plt.plot([2+h],f(2+h),'o',color='red',markersize=8) # This is the same plot as the cell above, except for this line, which creates a red dot whose position is defined by the value of h\n",
        "  plt.plot([2+h,2+h],[0,f(2+h)],ls='--',color='darkslategray')\n",
        "  plt.plot([0,2+h],[f(2+h),f(2+h)],ls='--',color='darkslategray')\n",
        "  plt.plot([2,2],[0,f(2)],ls='-.',color='goldenrod')\n",
        "  plt.plot([0,2],[f(2),f(2)],ls='-.',color='goldenrod')\n",
        "  plt.xlim(0,3)\n",
        "  plt.ylim(0,10)\n",
        "  print((2+h,f(2+h)))"
      ],
      "execution_count": 14,
      "outputs": [
        {
          "output_type": "display_data",
          "data": {
            "application/vnd.jupyter.widget-view+json": {
              "model_id": "d3c1a61ca1f04dc68736be66849f87aa",
              "version_minor": 0,
              "version_major": 2
            },
            "text/plain": [
              "interactive(children=(FloatSlider(value=0.5, description='h', max=1.5, min=-0.5), Output()), _dom_classes=('wi…"
            ]
          },
          "metadata": {
            "tags": []
          }
        }
      ]
    },
    {
      "cell_type": "code",
      "metadata": {
        "id": "D-kk_im6HM1a"
      },
      "source": [
        ""
      ],
      "execution_count": null,
      "outputs": []
    }
  ]
}