{
  "nbformat": 4,
  "nbformat_minor": 0,
  "metadata": {
    "kernelspec": {
      "display_name": "Python 3",
      "language": "python",
      "name": "python3"
    },
    "language_info": {
      "codemirror_mode": {
        "name": "ipython",
        "version": 3
      },
      "file_extension": ".py",
      "mimetype": "text/x-python",
      "name": "python",
      "nbconvert_exporter": "python",
      "pygments_lexer": "ipython3",
      "version": "3.7.3"
    },
    "colab": {
      "name": "Python Workbook 1 - Visualising Limits.ipynb",
      "provenance": [],
      "include_colab_link": true
    },
    "widgets": {
      "application/vnd.jupyter.widget-state+json": {
        "f43f36d8c8c8437eb6fd7ff314ba9754": {
          "model_module": "@jupyter-widgets/controls",
          "model_name": "VBoxModel",
          "state": {
            "_view_name": "VBoxView",
            "_dom_classes": [
              "widget-interact"
            ],
            "_model_name": "VBoxModel",
            "_view_module": "@jupyter-widgets/controls",
            "_model_module_version": "1.5.0",
            "_view_count": null,
            "_view_module_version": "1.5.0",
            "box_style": "",
            "layout": "IPY_MODEL_f85544a9cf7b49da90048910af9a45e7",
            "_model_module": "@jupyter-widgets/controls",
            "children": [
              "IPY_MODEL_d0be95477ccd40f2b386c0ecd0c87d8c",
              "IPY_MODEL_709d4ac7c80649c1ac21205c7a09bd5c"
            ]
          }
        },
        "f85544a9cf7b49da90048910af9a45e7": {
          "model_module": "@jupyter-widgets/base",
          "model_name": "LayoutModel",
          "state": {
            "_view_name": "LayoutView",
            "grid_template_rows": null,
            "right": null,
            "justify_content": null,
            "_view_module": "@jupyter-widgets/base",
            "overflow": null,
            "_model_module_version": "1.2.0",
            "_view_count": null,
            "flex_flow": null,
            "width": null,
            "min_width": null,
            "border": null,
            "align_items": null,
            "bottom": null,
            "_model_module": "@jupyter-widgets/base",
            "top": null,
            "grid_column": null,
            "overflow_y": null,
            "overflow_x": null,
            "grid_auto_flow": null,
            "grid_area": null,
            "grid_template_columns": null,
            "flex": null,
            "_model_name": "LayoutModel",
            "justify_items": null,
            "grid_row": null,
            "max_height": null,
            "align_content": null,
            "visibility": null,
            "align_self": null,
            "height": null,
            "min_height": null,
            "padding": null,
            "grid_auto_rows": null,
            "grid_gap": null,
            "max_width": null,
            "order": null,
            "_view_module_version": "1.2.0",
            "grid_template_areas": null,
            "object_position": null,
            "object_fit": null,
            "grid_auto_columns": null,
            "margin": null,
            "display": null,
            "left": null
          }
        },
        "d0be95477ccd40f2b386c0ecd0c87d8c": {
          "model_module": "@jupyter-widgets/controls",
          "model_name": "FloatSliderModel",
          "state": {
            "_view_name": "FloatSliderView",
            "style": "IPY_MODEL_b1d1095ba1c246a6919d556f5c1a6d8f",
            "_dom_classes": [],
            "description": "h",
            "step": 0.1,
            "_model_name": "FloatSliderModel",
            "orientation": "horizontal",
            "max": 1.5,
            "_view_module": "@jupyter-widgets/controls",
            "_model_module_version": "1.5.0",
            "value": 0.5,
            "_view_count": null,
            "disabled": false,
            "_view_module_version": "1.5.0",
            "min": -0.5,
            "continuous_update": true,
            "readout_format": ".2f",
            "description_tooltip": null,
            "readout": true,
            "_model_module": "@jupyter-widgets/controls",
            "layout": "IPY_MODEL_e84494fe87ea4328ae58c0cde72f93cd"
          }
        },
        "709d4ac7c80649c1ac21205c7a09bd5c": {
          "model_module": "@jupyter-widgets/output",
          "model_name": "OutputModel",
          "state": {
            "_view_name": "OutputView",
            "msg_id": "",
            "_dom_classes": [],
            "_model_name": "OutputModel",
            "outputs": [
              {
                "output_type": "stream",
                "metadata": {
                  "tags": []
                },
                "text": "(2.5, 7.25)\n",
                "stream": "stdout"
              },
              {
                "output_type": "display_data",
                "metadata": {
                  "tags": [],
                  "needs_background": "light"
                },
                "image/png": "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\n",
                "text/plain": "<Figure size 432x288 with 1 Axes>"
              }
            ],
            "_view_module": "@jupyter-widgets/output",
            "_model_module_version": "1.0.0",
            "_view_count": null,
            "_view_module_version": "1.0.0",
            "layout": "IPY_MODEL_3a9af1e2bf0747f6b64fe2921e94c766",
            "_model_module": "@jupyter-widgets/output"
          }
        },
        "b1d1095ba1c246a6919d556f5c1a6d8f": {
          "model_module": "@jupyter-widgets/controls",
          "model_name": "SliderStyleModel",
          "state": {
            "_view_name": "StyleView",
            "handle_color": null,
            "_model_name": "SliderStyleModel",
            "description_width": "",
            "_view_module": "@jupyter-widgets/base",
            "_model_module_version": "1.5.0",
            "_view_count": null,
            "_view_module_version": "1.2.0",
            "_model_module": "@jupyter-widgets/controls"
          }
        },
        "e84494fe87ea4328ae58c0cde72f93cd": {
          "model_module": "@jupyter-widgets/base",
          "model_name": "LayoutModel",
          "state": {
            "_view_name": "LayoutView",
            "grid_template_rows": null,
            "right": null,
            "justify_content": null,
            "_view_module": "@jupyter-widgets/base",
            "overflow": null,
            "_model_module_version": "1.2.0",
            "_view_count": null,
            "flex_flow": null,
            "width": null,
            "min_width": null,
            "border": null,
            "align_items": null,
            "bottom": null,
            "_model_module": "@jupyter-widgets/base",
            "top": null,
            "grid_column": null,
            "overflow_y": null,
            "overflow_x": null,
            "grid_auto_flow": null,
            "grid_area": null,
            "grid_template_columns": null,
            "flex": null,
            "_model_name": "LayoutModel",
            "justify_items": null,
            "grid_row": null,
            "max_height": null,
            "align_content": null,
            "visibility": null,
            "align_self": null,
            "height": null,
            "min_height": null,
            "padding": null,
            "grid_auto_rows": null,
            "grid_gap": null,
            "max_width": null,
            "order": null,
            "_view_module_version": "1.2.0",
            "grid_template_areas": null,
            "object_position": null,
            "object_fit": null,
            "grid_auto_columns": null,
            "margin": null,
            "display": null,
            "left": null
          }
        },
        "3a9af1e2bf0747f6b64fe2921e94c766": {
          "model_module": "@jupyter-widgets/base",
          "model_name": "LayoutModel",
          "state": {
            "_view_name": "LayoutView",
            "grid_template_rows": null,
            "right": null,
            "justify_content": null,
            "_view_module": "@jupyter-widgets/base",
            "overflow": null,
            "_model_module_version": "1.2.0",
            "_view_count": null,
            "flex_flow": null,
            "width": null,
            "min_width": null,
            "border": null,
            "align_items": null,
            "bottom": null,
            "_model_module": "@jupyter-widgets/base",
            "top": null,
            "grid_column": null,
            "overflow_y": null,
            "overflow_x": null,
            "grid_auto_flow": null,
            "grid_area": null,
            "grid_template_columns": null,
            "flex": null,
            "_model_name": "LayoutModel",
            "justify_items": null,
            "grid_row": null,
            "max_height": null,
            "align_content": null,
            "visibility": null,
            "align_self": null,
            "height": null,
            "min_height": null,
            "padding": null,
            "grid_auto_rows": null,
            "grid_gap": null,
            "max_width": null,
            "order": null,
            "_view_module_version": "1.2.0",
            "grid_template_areas": null,
            "object_position": null,
            "object_fit": null,
            "grid_auto_columns": null,
            "margin": null,
            "display": null,
            "left": null
          }
        }
      }
    }
  },
  "cells": [
    {
      "cell_type": "markdown",
      "metadata": {
        "id": "view-in-github",
        "colab_type": "text"
      },
      "source": [
        "<a href=\"https://colab.research.google.com/github/tlyonsWIT/Engineering-Maths-8.2/blob/master/Python%20Workbook%201%20-%20Visualising%20Limits.ipynb\" target=\"_parent\"><img src=\"https://colab.research.google.com/assets/colab-badge.svg\" alt=\"Open In Colab\"/></a>"
      ]
    },
    {
      "cell_type": "markdown",
      "metadata": {
        "id": "WnrBzWybAK7B"
      },
      "source": [
        "# Engineering Maths 8.2 - Inroduction to Limits\n",
        "\n",
        "\n",
        "## Visualising analytic limits"
      ]
    },
    {
      "cell_type": "markdown",
      "metadata": {
        "id": "_aUSMJa-AK7J"
      },
      "source": [
        "The `interact` function (`ipywidgets.interact`) automatically creates user interface (UI) controls for exploring code and data interactively. It is the easiest way to get started using IPython's widgets."
      ]
    },
    {
      "cell_type": "code",
      "metadata": {
        "id": "9t7ql_2aAK7K"
      },
      "source": [
        "from __future__ import print_function\n",
        "from ipywidgets import interact, interactive, fixed, interact_manual\n",
        "import ipywidgets as widgets\n",
        "import numpy as np\n",
        "import matplotlib.pyplot as plt"
      ],
      "execution_count": 2,
      "outputs": []
    },
    {
      "cell_type": "markdown",
      "metadata": {
        "id": "NL7uk0nTAK7M"
      },
      "source": [
        "## Defining the function "
      ]
    },
    {
      "cell_type": "markdown",
      "metadata": {
        "id": "_fZzdBnAAK7N"
      },
      "source": [
        "* In this case we are going to visulse the limits of the function\n",
        "$$ 1+x^2$$\n",
        "\n",
        "\n",
        "\n",
        "* We are going to examine the left and right limits of this function about the point $x=2$.\n",
        "\n",
        "\n",
        "\n",
        "* The first thing to do is define a pyrhon function to represent this:"
      ]
    },
    {
      "cell_type": "code",
      "metadata": {
        "id": "ietnTtThAK7N"
      },
      "source": [
        "def f(x):\n",
        "    return 1+x**2"
      ],
      "execution_count": 3,
      "outputs": []
    },
    {
      "cell_type": "markdown",
      "metadata": {
        "id": "uXZO-Lv3E6me"
      },
      "source": [
        "* Next we plot the function between $x=0$ and $x=3$, to see what it looks like."
      ]
    },
    {
      "cell_type": "code",
      "metadata": {
        "colab": {
          "base_uri": "https://localhost:8080/",
          "height": 286
        },
        "id": "VfGulkKRAmjZ",
        "outputId": "8c063b49-722f-4337-cfbe-251321376388"
      },
      "source": [
        "X=np.linspace(0,3,501)\n",
        "plt.plot(X,f(X))\n",
        "plt.plot([2,2],[0,f(2)],ls='--',color='darkslategray')\n",
        "plt.plot([0,2],[f(2),f(2)],ls='--',color='darkslategray')\n",
        "plt.xlim(0,3)\n",
        "plt.ylim(0,10)"
      ],
      "execution_count": 4,
      "outputs": [
        {
          "output_type": "execute_result",
          "data": {
            "text/plain": [
              "(0.0, 10.0)"
            ]
          },
          "metadata": {
            "tags": []
          },
          "execution_count": 4
        },
        {
          "output_type": "display_data",
          "data": {
            "image/png": "[encoded data removed]",
            "text/plain": [
              "<Figure size 432x288 with 1 Axes>"
            ]
          },
          "metadata": {
            "tags": [],
            "needs_background": "light"
          }
        }
      ]
    },
    {
      "cell_type": "markdown",
      "metadata": {
        "id": "QETGlf7UAK7O"
      },
      "source": [
        "## The Moving Point Plot\n",
        "\n",
        "\n",
        "* No we re-create the same plot, but we include a __moving point__ whose position we can adjust with a slider. "
      ]
    },
    {
      "cell_type": "code",
      "metadata": {
        "colab": {
          "base_uri": "https://localhost:8080/",
          "height": 318,
          "referenced_widgets": [
            "f43f36d8c8c8437eb6fd7ff314ba9754",
            "f85544a9cf7b49da90048910af9a45e7",
            "d0be95477ccd40f2b386c0ecd0c87d8c",
            "709d4ac7c80649c1ac21205c7a09bd5c",
            "b1d1095ba1c246a6919d556f5c1a6d8f",
            "e84494fe87ea4328ae58c0cde72f93cd",
            "3a9af1e2bf0747f6b64fe2921e94c766"
          ]
        },
        "id": "qGn8P0w8Bbw9",
        "outputId": "7cc6005b-1b91-472b-f830-b5167d860f24"
      },
      "source": [
        "@interact(h=0.5) # Tell python the generate an interctive slider for the variable h, and set its initial value to 0.5\n",
        "\n",
        "def MovinPointPlot(h):\n",
        "  X=np.linspace(0,3,501)\n",
        "  plt.plot(X,f(X))\n",
        "  plt.plot([2+h],f(2+h),'o',color='red',markersize=8) # This is the same plot as the cell above, except for this line, which creates a red dot whose position is defined by the value of h\n",
        "  plt.plot([2+h,2+h],[0,f(2+h)],ls='--',color='darkslategray')\n",
        "  plt.plot([0,2+h],[f(2+h),f(2+h)],ls='--',color='darkslategray')\n",
        "  plt.plot([2,2],[0,f(2)],ls='-.',color='goldenrod')\n",
        "  plt.plot([0,2],[f(2),f(2)],ls='-.',color='goldenrod')\n",
        "  plt.xlim(0,3)\n",
        "  plt.ylim(0,10)\n",
        "  print((2+h,f(2+h)))"
      ],
      "execution_count": 5,
      "outputs": [
        {
          "output_type": "display_data",
          "data": {
            "application/vnd.jupyter.widget-view+json": {
              "model_id": "f43f36d8c8c8437eb6fd7ff314ba9754",
              "version_minor": 0,
              "version_major": 2
            },
            "text/plain": [
              "interactive(children=(FloatSlider(value=0.5, description='h', max=1.5, min=-0.5), Output()), _dom_classes=('wi…"
            ]
          },
          "metadata": {
            "tags": []
          }
        }
      ]
    },
    {
      "cell_type": "markdown",
      "metadata": {
        "id": "2rZrvhRzKWu1"
      },
      "source": [
        "# Limits at Singularities\n",
        "\n",
        "\n",
        "* During lectures we saw that the function \n",
        "$$\n",
        "f(x)=\\frac{2x}{x-5}\n",
        "$$\n",
        "is singular at the point $x=5$.\n",
        "\n",
        "\n",
        "* This means that we cannot evaluate $f(5)$ and so we cannot use this to say that the limit as $x\\to5$ is $f(5)$.\n",
        "\n",
        "\n",
        "* Instead we say that we could create a sequence of $x$-values approaching $x=5$ from the left and from the right, and evaluating $f(x)$ along this sequence to see what happens to $f$.\n",
        "\n",
        "\n",
        "* We do the same thing here in Python for practice.\n",
        "\n",
        "\n",
        "* First, we create our left and right squences (about $x=5$):"
      ]
    },
    {
      "cell_type": "code",
      "metadata": {
        "id": "jACPkXd_LPqp"
      },
      "source": [
        "Left=np.array([4.5,4.9,4.95,4.995,4.9995,4.99995])"
      ],
      "execution_count": 6,
      "outputs": []
    },
    {
      "cell_type": "code",
      "metadata": {
        "id": "DjBj5jF4LfgL"
      },
      "source": [
        "Right=np.array([5.5,5.1,5.05,5.005,5.0005,5.00005,])"
      ],
      "execution_count": 7,
      "outputs": []
    },
    {
      "cell_type": "markdown",
      "metadata": {
        "id": "yHpO9eLwKW63"
      },
      "source": [
        "* Next we define our function $f(x)$:"
      ]
    },
    {
      "cell_type": "code",
      "metadata": {
        "id": "CbyVAUMALyE8"
      },
      "source": [
        "def f(x):\n",
        "  return 2*x/(x-5)"
      ],
      "execution_count": 8,
      "outputs": []
    },
    {
      "cell_type": "markdown",
      "metadata": {
        "id": "aBXPUsI_KXH9"
      },
      "source": [
        "## Evaluate!\n",
        "\n",
        "* On the __Left__ sequence we find:"
      ]
    },
    {
      "cell_type": "code",
      "metadata": {
        "id": "D-kk_im6HM1a",
        "outputId": "be17dfb1-edbc-4191-ea3f-d75970b9f678",
        "colab": {
          "base_uri": "https://localhost:8080/"
        }
      },
      "source": [
        "f(Left)"
      ],
      "execution_count": 9,
      "outputs": [
        {
          "output_type": "execute_result",
          "data": {
            "text/plain": [
              "array([-1.80000e+01, -9.80000e+01, -1.98000e+02, -1.99800e+03,\n",
              "       -1.99980e+04, -1.99998e+05])"
            ]
          },
          "metadata": {
            "tags": []
          },
          "execution_count": 9
        }
      ]
    },
    {
      "cell_type": "markdown",
      "metadata": {
        "id": "78jU_eOMMHgv"
      },
      "source": [
        "* The notation __e+05__ means $10^{5}$ etc., so the above array can also be written as "
      ]
    },
    {
      "cell_type": "code",
      "metadata": {
        "id": "ZsBUtEhWMGWw",
        "outputId": "add73544-32fd-4506-be7c-c2d01479022c",
        "colab": {
          "base_uri": "https://localhost:8080/"
        }
      },
      "source": [
        "np.array([-180,-98,-198,-1998,-19998,-199998])"
      ],
      "execution_count": 10,
      "outputs": [
        {
          "output_type": "execute_result",
          "data": {
            "text/plain": [
              "array([   -180,     -98,    -198,   -1998,  -19998, -199998])"
            ]
          },
          "metadata": {
            "tags": []
          },
          "execution_count": 10
        }
      ]
    },
    {
      "cell_type": "markdown",
      "metadata": {
        "id": "FlG5rbXnMrn-"
      },
      "source": [
        "* So we see that as $x\\to 5$ the function becomes a large negative number, so we say\n",
        "$$\n",
        "\\lim_{x\\to5^{-}}\\frac{2x}{x-5}=-\\infty.\n",
        "$$"
      ]
    },
    {
      "cell_type": "markdown",
      "metadata": {
        "id": "WHvww_UbNA8N"
      },
      "source": [
        "* On the __Right__ sequence we find:"
      ]
    },
    {
      "cell_type": "code",
      "metadata": {
        "id": "MkScUElPMFBJ",
        "outputId": "52e7c089-92c9-4fc0-cade-0fda87e25652",
        "colab": {
          "base_uri": "https://localhost:8080/"
        }
      },
      "source": [
        "f(Right)"
      ],
      "execution_count": 11,
      "outputs": [
        {
          "output_type": "execute_result",
          "data": {
            "text/plain": [
              "array([2.20000e+01, 1.02000e+02, 2.02000e+02, 2.00200e+03, 2.00020e+04,\n",
              "       2.00002e+05])"
            ]
          },
          "metadata": {
            "tags": []
          },
          "execution_count": 11
        }
      ]
    },
    {
      "cell_type": "markdown",
      "metadata": {
        "id": "fknq2F2BNLS_"
      },
      "source": [
        "* This sequence of output values can be written as "
      ]
    },
    {
      "cell_type": "code",
      "metadata": {
        "id": "7qi1GSrTNWMW",
        "outputId": "4aca497b-e3ce-4a43-bcf1-38e39ce465e4",
        "colab": {
          "base_uri": "https://localhost:8080/"
        }
      },
      "source": [
        "np.array([22,102,202,2002,20002,200002])"
      ],
      "execution_count": 12,
      "outputs": [
        {
          "output_type": "execute_result",
          "data": {
            "text/plain": [
              "array([    22,    102,    202,   2002,  20002, 200002])"
            ]
          },
          "metadata": {
            "tags": []
          },
          "execution_count": 12
        }
      ]
    },
    {
      "cell_type": "markdown",
      "metadata": {
        "id": "Z2Ly1xuINluD"
      },
      "source": [
        "* So we see that the output becomes a large positive number as $x\\to5^{+}$, in which case we can say\n",
        "$$\n",
        "\\lim_{x\\to5^{+}}\\frac{2x}{x-5}=+\\infty.\n",
        "$$"
      ]
    },
    {
      "cell_type": "markdown",
      "metadata": {
        "id": "pOai_04LN5uG"
      },
      "source": [
        "## A plot of the function"
      ]
    },
    {
      "cell_type": "code",
      "metadata": {
        "id": "uKFR-85BNhqP",
        "outputId": "643ede04-a4ef-4972-c0f2-9831bac32076",
        "colab": {
          "base_uri": "https://localhost:8080/",
          "height": 331
        }
      },
      "source": [
        "X=np.linspace(4,6,2001)\n",
        "plt.plot(X,f(X))\n",
        "plt.xlabel('x')\n",
        "plt.ylabel('f(x)')"
      ],
      "execution_count": 26,
      "outputs": [
        {
          "output_type": "stream",
          "text": [
            "/usr/local/lib/python3.6/dist-packages/ipykernel_launcher.py:2: RuntimeWarning: divide by zero encountered in true_divide\n",
            "  \n"
          ],
          "name": "stderr"
        },
        {
          "output_type": "execute_result",
          "data": {
            "text/plain": [
              "Text(0, 0.5, 'f(x)')"
            ]
          },
          "metadata": {
            "tags": []
          },
          "execution_count": 26
        },
        {
          "output_type": "display_data",
          "data": {
            "image/png": "[encoded data removed]",
            "text/plain": [
              "<Figure size 432x288 with 1 Axes>"
            ]
          },
          "metadata": {
            "tags": [],
            "needs_background": "light"
          }
        }
      ]
    },
    {
      "cell_type": "code",
      "metadata": {
        "id": "tPWjfSB7OEPl"
      },
      "source": [
        ""
      ],
      "execution_count": null,
      "outputs": []
    }
  ]
}